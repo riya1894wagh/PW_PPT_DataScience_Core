{
 "cells": [
  {
   "cell_type": "markdown",
   "id": "49258904-b56a-46f7-8d91-bc721efda021",
   "metadata": {},
   "source": [
    "1. Write a Python program to reverse a string without using any built-in string reversal functions.\n"
   ]
  },
  {
   "cell_type": "code",
   "execution_count": 178,
   "id": "e73d7aa4-0849-4e49-9259-ce70675da3b2",
   "metadata": {},
   "outputs": [],
   "source": [
    "str = \"Riya\""
   ]
  },
  {
   "cell_type": "code",
   "execution_count": 179,
   "id": "a0abfc66-64cb-49ef-b4de-774913f7c102",
   "metadata": {},
   "outputs": [],
   "source": [
    "str  = str[ : : -1]"
   ]
  },
  {
   "cell_type": "code",
   "execution_count": 180,
   "id": "951b66ea-cc65-430d-80f5-a30ebf7fa4ec",
   "metadata": {},
   "outputs": [
    {
     "data": {
      "text/plain": [
       "'ayiR'"
      ]
     },
     "execution_count": 180,
     "metadata": {},
     "output_type": "execute_result"
    }
   ],
   "source": [
    "str"
   ]
  },
  {
   "cell_type": "markdown",
   "id": "fb64e1fe-4625-4655-a466-bf21140e521a",
   "metadata": {},
   "source": [
    "2. Implement a function to check if a given string is a palindrome.\n"
   ]
  },
  {
   "cell_type": "code",
   "execution_count": 181,
   "id": "4423ca16-64b2-4dea-94c5-05332f4de106",
   "metadata": {},
   "outputs": [],
   "source": [
    "def isPalindrome(str): \n",
    "    if(str == str[::-1]):\n",
    "        return True\n",
    "    else:\n",
    "        return False"
   ]
  },
  {
   "cell_type": "code",
   "execution_count": 182,
   "id": "3647b6a1-7317-4152-94a9-b8dc94ca01fe",
   "metadata": {},
   "outputs": [
    {
     "data": {
      "text/plain": [
       "False"
      ]
     },
     "execution_count": 182,
     "metadata": {},
     "output_type": "execute_result"
    }
   ],
   "source": [
    "isPalindrome(str)"
   ]
  },
  {
   "cell_type": "code",
   "execution_count": 183,
   "id": "f02fdcae-fdd0-4340-a9ca-70937b01f3d0",
   "metadata": {},
   "outputs": [
    {
     "data": {
      "text/plain": [
       "True"
      ]
     },
     "execution_count": 183,
     "metadata": {},
     "output_type": "execute_result"
    }
   ],
   "source": [
    "isPalindrome(\"aba\")"
   ]
  },
  {
   "cell_type": "markdown",
   "id": "194bd178-4cf2-423f-aae1-fd02e9ddf7b4",
   "metadata": {},
   "source": [
    "3. Write a program to find the largest element in a given list.\n"
   ]
  },
  {
   "cell_type": "code",
   "execution_count": 184,
   "id": "17af0347-5cb6-4225-b2c3-746f2306d850",
   "metadata": {},
   "outputs": [],
   "source": [
    "def largest(list):\n",
    "    l = 0\n",
    "    r = len(list) -1\n",
    "    maximum = list[0]\n",
    "    \n",
    "    while(l<r):\n",
    "        if(list[l]>list[r]):\n",
    "            maximum = max(maximum,list[l])\n",
    "            l=l+1\n",
    "        else:\n",
    "            maximum = max(maximum,list[r])\n",
    "            r=r-1\n",
    "    return maximum"
   ]
  },
  {
   "cell_type": "code",
   "execution_count": 185,
   "id": "57155abe-51e4-4652-9576-d271560af27a",
   "metadata": {},
   "outputs": [],
   "source": [
    "list = [ 7,9,5,10,7,95,12,6,4,5,77,96,54,69,42,78,96,45]"
   ]
  },
  {
   "cell_type": "code",
   "execution_count": 186,
   "id": "edcd9c3d-5012-4f6d-90b3-ea96577ffaae",
   "metadata": {},
   "outputs": [
    {
     "data": {
      "text/plain": [
       "96"
      ]
     },
     "execution_count": 186,
     "metadata": {},
     "output_type": "execute_result"
    }
   ],
   "source": [
    "largest(list)"
   ]
  },
  {
   "cell_type": "code",
   "execution_count": 187,
   "id": "0032e982-af24-4ec3-ab8c-bd0ae0ecd881",
   "metadata": {},
   "outputs": [],
   "source": [
    "list = [ 7,9,5,10,7,95,102,6,4,5,77,96,54,69,42,78,96,45]"
   ]
  },
  {
   "cell_type": "code",
   "execution_count": 188,
   "id": "5a6fa983-0352-461b-b4c9-41c22c765a8a",
   "metadata": {},
   "outputs": [
    {
     "data": {
      "text/plain": [
       "102"
      ]
     },
     "execution_count": 188,
     "metadata": {},
     "output_type": "execute_result"
    }
   ],
   "source": [
    "largest(list)"
   ]
  },
  {
   "cell_type": "markdown",
   "id": "c1797cc2-ded9-4f79-a580-b19ed0c3d7d1",
   "metadata": {},
   "source": [
    "4. Implement a function to count the occurrence of each element in a list.\n"
   ]
  },
  {
   "cell_type": "code",
   "execution_count": 189,
   "id": "afbb8c55-c947-44cb-aa01-945f56ae26b8",
   "metadata": {},
   "outputs": [],
   "source": [
    "def occurance_x(l,x):\n",
    "    count = 0\n",
    "    \n",
    "    for i in range(0,len(l)):\n",
    "        if l[i] == x:\n",
    "            count = count + 1\n",
    "    \n",
    "    return count"
   ]
  },
  {
   "cell_type": "code",
   "execution_count": 190,
   "id": "954830ee-0f00-4cbd-a0ee-f48666741dec",
   "metadata": {},
   "outputs": [],
   "source": [
    "def fun(l):\n",
    "    for j in range(0,len(l)):\n",
    "        print(\"count of number\",l[j], \"in list is :\",occurance_x(l,l[j]))"
   ]
  },
  {
   "cell_type": "code",
   "execution_count": 191,
   "id": "2ec94af6-a48d-4415-aeb2-1f9e36326b41",
   "metadata": {},
   "outputs": [],
   "source": [
    "l1 = [1,2,8,1,3,2,5,7,2,2,7]"
   ]
  },
  {
   "cell_type": "code",
   "execution_count": 192,
   "id": "8dcd0429-6c0a-4b5a-aef3-14cef31d60df",
   "metadata": {},
   "outputs": [
    {
     "name": "stdout",
     "output_type": "stream",
     "text": [
      "count of number 1 in list is : 2\n",
      "count of number 2 in list is : 4\n",
      "count of number 8 in list is : 1\n",
      "count of number 1 in list is : 2\n",
      "count of number 3 in list is : 1\n",
      "count of number 2 in list is : 4\n",
      "count of number 5 in list is : 1\n",
      "count of number 7 in list is : 2\n",
      "count of number 2 in list is : 4\n",
      "count of number 2 in list is : 4\n",
      "count of number 7 in list is : 2\n"
     ]
    }
   ],
   "source": [
    "fun(l1)"
   ]
  },
  {
   "cell_type": "markdown",
   "id": "d3a70bc9-2c87-44aa-b2f8-e9bcf02a4ee1",
   "metadata": {},
   "source": [
    "5. Write a Python program to find the second largest number in a list.\n"
   ]
  },
  {
   "cell_type": "code",
   "execution_count": 193,
   "id": "6bdc9f0a-cec7-4bae-a41e-c0ee7d46568c",
   "metadata": {},
   "outputs": [],
   "source": [
    "l2 = [12,56,85,5,105,102,9,6,84,5,4,10,84,65,45,87]"
   ]
  },
  {
   "cell_type": "code",
   "execution_count": 194,
   "id": "e58e1367-91e5-4cb5-bc61-91dd9b967a64",
   "metadata": {},
   "outputs": [],
   "source": [
    "l2 = sorted(l2)"
   ]
  },
  {
   "cell_type": "code",
   "execution_count": 195,
   "id": "c6b86d43-ea1b-495a-bec5-b92c17b70f32",
   "metadata": {},
   "outputs": [
    {
     "data": {
      "text/plain": [
       "[4, 5, 5, 6, 9, 10, 12, 45, 56, 65, 84, 84, 85, 87, 102, 105]"
      ]
     },
     "execution_count": 195,
     "metadata": {},
     "output_type": "execute_result"
    }
   ],
   "source": [
    "l2"
   ]
  },
  {
   "cell_type": "code",
   "execution_count": 196,
   "id": "6b09af54-2865-4361-b6a8-0f6c3e7c18ae",
   "metadata": {},
   "outputs": [
    {
     "name": "stdout",
     "output_type": "stream",
     "text": [
      "102\n"
     ]
    }
   ],
   "source": [
    "print(l2[-2])"
   ]
  },
  {
   "cell_type": "markdown",
   "id": "0e904fc6-56d6-418d-84dc-f79c2faad973",
   "metadata": {},
   "source": [
    "6. Implement a function to remove duplicate elements from a list.\n"
   ]
  },
  {
   "cell_type": "code",
   "execution_count": 197,
   "id": "10f68a52-b512-4836-af5b-a70bfd79dbdf",
   "metadata": {},
   "outputs": [],
   "source": [
    "def remove_dublicate(list):\n",
    "    set1  = set(list)\n",
    "    list = []\n",
    "    for i in set1:\n",
    "        list.append(i)\n",
    "        \n",
    "    return list"
   ]
  },
  {
   "cell_type": "code",
   "execution_count": 198,
   "id": "a760ecd9-c533-4e17-a9dd-3313276cb444",
   "metadata": {},
   "outputs": [],
   "source": [
    "list = [1 , 5 , 1  , 9 , 6 , 4 , 1 , 6 , 2 , 7 , 3 , 4 , 6 , 5]"
   ]
  },
  {
   "cell_type": "code",
   "execution_count": 199,
   "id": "5934510d-5a48-40af-a927-dc1ea9ae60d1",
   "metadata": {},
   "outputs": [],
   "source": [
    "list = remove_dublicate(list)"
   ]
  },
  {
   "cell_type": "code",
   "execution_count": 200,
   "id": "2e5e2573-f06e-40fc-8616-ac86a793d5ba",
   "metadata": {},
   "outputs": [
    {
     "data": {
      "text/plain": [
       "[1, 2, 3, 4, 5, 6, 7, 9]"
      ]
     },
     "execution_count": 200,
     "metadata": {},
     "output_type": "execute_result"
    }
   ],
   "source": [
    "list"
   ]
  },
  {
   "cell_type": "markdown",
   "id": "5ec1e30f-2bad-4b01-943e-caef6a3ed65f",
   "metadata": {},
   "source": [
    "7. Write a program to calculate the factorial of a given number.\n"
   ]
  },
  {
   "cell_type": "code",
   "execution_count": 201,
   "id": "b27c0c18-1491-431a-8bf0-a2a0d442f5dd",
   "metadata": {},
   "outputs": [],
   "source": [
    "def fact(n):\n",
    "    if n == 1 or n==2 or n==0:\n",
    "        return n\n",
    "    else:\n",
    "        return n*fact(n-1)"
   ]
  },
  {
   "cell_type": "code",
   "execution_count": 202,
   "id": "8639486f-d81b-48cd-be8e-a172658eaf68",
   "metadata": {},
   "outputs": [
    {
     "data": {
      "text/plain": [
       "120"
      ]
     },
     "execution_count": 202,
     "metadata": {},
     "output_type": "execute_result"
    }
   ],
   "source": [
    "fact(5)"
   ]
  },
  {
   "cell_type": "markdown",
   "id": "5714ab1d-972f-4565-af49-beb58b5dadd6",
   "metadata": {},
   "source": [
    "\n",
    "\n",
    "8. Implement a function to check if a given number is prime.\n"
   ]
  },
  {
   "cell_type": "code",
   "execution_count": 203,
   "id": "94611228-41c5-4153-9ae5-649949ffbb46",
   "metadata": {},
   "outputs": [],
   "source": [
    "def isprime(n):\n",
    "    for i in range(2,n):\n",
    "        if(n%i ==0 ):\n",
    "            return False\n",
    "    return True"
   ]
  },
  {
   "cell_type": "code",
   "execution_count": 204,
   "id": "797d9f59-0ced-4973-9646-ab06706fd8ef",
   "metadata": {},
   "outputs": [
    {
     "data": {
      "text/plain": [
       "True"
      ]
     },
     "execution_count": 204,
     "metadata": {},
     "output_type": "execute_result"
    }
   ],
   "source": [
    "isprime(7)"
   ]
  },
  {
   "cell_type": "markdown",
   "id": "f34d26b2-9603-48db-a337-1087c0eac472",
   "metadata": {},
   "source": [
    "9. Write a Python program to sort a list of integers in ascending order.\n"
   ]
  },
  {
   "cell_type": "code",
   "execution_count": 205,
   "id": "ec079370-f37d-4fb9-b10d-1f36b5f3e41d",
   "metadata": {},
   "outputs": [],
   "source": [
    "def sort(l):\n",
    "    for i in range(0 , len(l)):\n",
    "        for j in range(i+1 , len(l)):\n",
    "            if(l[i] > l[j]):\n",
    "                 l[i] , l[j] = l[j] , l[i]\n",
    "\n",
    "    return l"
   ]
  },
  {
   "cell_type": "code",
   "execution_count": 206,
   "id": "af8cee34-86d4-4320-a8f2-326d6f363802",
   "metadata": {},
   "outputs": [],
   "source": [
    "list = [1 , 5 , 1  , 9 , 6 , 4 , 1 , 6 , 2 , 7 , 3 , 4 , 6 , 5]"
   ]
  },
  {
   "cell_type": "code",
   "execution_count": 207,
   "id": "efa15304-ade2-430c-98ad-d6e24a84f76a",
   "metadata": {},
   "outputs": [
    {
     "data": {
      "text/plain": [
       "[1, 1, 1, 2, 3, 4, 4, 5, 5, 6, 6, 6, 7, 9]"
      ]
     },
     "execution_count": 207,
     "metadata": {},
     "output_type": "execute_result"
    }
   ],
   "source": [
    "sort(list)"
   ]
  },
  {
   "cell_type": "markdown",
   "id": "a8b668ac-d5af-446b-9169-4d1667881503",
   "metadata": {},
   "source": [
    "10. Implement a function to find the sum of all numbers in a list.\n"
   ]
  },
  {
   "cell_type": "code",
   "execution_count": 208,
   "id": "216221a5-3c2e-4889-a7cd-939b13af3261",
   "metadata": {},
   "outputs": [],
   "source": [
    "def sum(l3):\n",
    "    sum = 0\n",
    "    for i in range(0,len(l3)):\n",
    "        sum += l3[i]\n",
    "    return sum"
   ]
  },
  {
   "cell_type": "code",
   "execution_count": 209,
   "id": "cac4dfa8-3db4-4519-8f75-c6880a1a54fe",
   "metadata": {},
   "outputs": [],
   "source": [
    "l3 = [1 , 2 , 3 , 4]"
   ]
  },
  {
   "cell_type": "code",
   "execution_count": 210,
   "id": "99a35eee-9f39-49e8-a848-0e1d76f47049",
   "metadata": {},
   "outputs": [
    {
     "data": {
      "text/plain": [
       "10"
      ]
     },
     "execution_count": 210,
     "metadata": {},
     "output_type": "execute_result"
    }
   ],
   "source": [
    "sum(l3)"
   ]
  },
  {
   "cell_type": "markdown",
   "id": "2cf2b311-d86d-4907-89f9-0c3cac3ae1c5",
   "metadata": {},
   "source": [
    "11. Write a program to find the common elements between two lists.\n"
   ]
  },
  {
   "cell_type": "code",
   "execution_count": 211,
   "id": "de5a3f91-b1e8-4b02-86dc-f0cbe41d1193",
   "metadata": {},
   "outputs": [],
   "source": [
    "def common_element(a, b):\n",
    "\tresult = [i for i in a if i in b]\n",
    "\treturn result\n",
    " "
   ]
  },
  {
   "cell_type": "code",
   "execution_count": 212,
   "id": "20040b60-c0e3-47ff-b3e2-4315f7be1413",
   "metadata": {},
   "outputs": [
    {
     "name": "stdout",
     "output_type": "stream",
     "text": [
      "[5]\n"
     ]
    }
   ],
   "source": [
    "\n",
    "a = [1, 2, 3, 4, 5]\n",
    "b = [5, 6, 7, 8, 9]\n",
    "\n",
    "print(common_element(a, b))\n"
   ]
  },
  {
   "cell_type": "code",
   "execution_count": 213,
   "id": "7118b09f-2a8e-46ad-811d-995d7466d3ca",
   "metadata": {},
   "outputs": [
    {
     "name": "stdout",
     "output_type": "stream",
     "text": [
      "[]\n"
     ]
    }
   ],
   "source": [
    "a = [1, 2, 3, 4, 51]\n",
    "b = [5, 6, 7, 8, 9]\n",
    "\n",
    "print(common_element(a, b))\n"
   ]
  },
  {
   "cell_type": "markdown",
   "id": "1b795175-d622-4e64-8564-92faef8575ca",
   "metadata": {},
   "source": [
    "12. Implement a function to check if a given string is an anagram of another string.\n"
   ]
  },
  {
   "cell_type": "code",
   "execution_count": 214,
   "id": "893eebc3-b948-43d7-98db-1a5d40e51d0a",
   "metadata": {},
   "outputs": [],
   "source": [
    "def anagram(str1 , str2):\n",
    "    str1 = set(str1)\n",
    "    str2 = set(str2)\n",
    "    if(str1 == str2):\n",
    "        return True\n",
    "    return False"
   ]
  },
  {
   "cell_type": "code",
   "execution_count": 215,
   "id": "8e52305f-45f2-4d3d-b4d3-409b5fec4919",
   "metadata": {},
   "outputs": [],
   "source": [
    "str1 = \"bcda\"\n",
    "str2 = \"dcab\""
   ]
  },
  {
   "cell_type": "code",
   "execution_count": 216,
   "id": "31da7693-ef2a-47e1-9826-1bccbcf39023",
   "metadata": {},
   "outputs": [
    {
     "data": {
      "text/plain": [
       "True"
      ]
     },
     "execution_count": 216,
     "metadata": {},
     "output_type": "execute_result"
    }
   ],
   "source": [
    "anagram(str1,str2)"
   ]
  },
  {
   "cell_type": "code",
   "execution_count": 217,
   "id": "aa1333bf-5377-44fc-bcc1-78ea6e209c4b",
   "metadata": {},
   "outputs": [],
   "source": [
    "str1 = \"bcvda\"\n",
    "str2 = \"dcab\""
   ]
  },
  {
   "cell_type": "code",
   "execution_count": 218,
   "id": "45da002b-6bdf-41a4-a991-fb9a2cfb0339",
   "metadata": {},
   "outputs": [
    {
     "data": {
      "text/plain": [
       "False"
      ]
     },
     "execution_count": 218,
     "metadata": {},
     "output_type": "execute_result"
    }
   ],
   "source": [
    "anagram(str1,str2)"
   ]
  },
  {
   "cell_type": "markdown",
   "id": "9240a992-0fad-48af-94af-7532dcd463c7",
   "metadata": {},
   "source": [
    "13. Write a Python program to generate all permutations of a given string.\n"
   ]
  },
  {
   "cell_type": "code",
   "execution_count": 219,
   "id": "966dd646-b886-4a40-bdef-3e529b0242db",
   "metadata": {},
   "outputs": [],
   "source": [
    "def permute(a,fi) :\n",
    "        \n",
    "         \n",
    "\n",
    "        if (fi == len(a)-1):\n",
    "            print(\"\".join(a))\n",
    "        \n",
    "        else:\n",
    "            for i in range(fi,len(a)):\n",
    "                \n",
    "                    a[i] , a[fi] = a[fi] , a[i]\n",
    "                    permute(a, fi+1)\n",
    "                    a[i] , a[fi] = a[fi] , a[i]\n",
    "\t\t\n",
    "\t\n"
   ]
  },
  {
   "cell_type": "code",
   "execution_count": 220,
   "id": "4e3b7713-7016-4dbb-b6c8-8dc0bba46b10",
   "metadata": {},
   "outputs": [
    {
     "ename": "TypeError",
     "evalue": "'list' object is not callable",
     "output_type": "error",
     "traceback": [
      "\u001b[0;31m---------------------------------------------------------------------------\u001b[0m",
      "\u001b[0;31mTypeError\u001b[0m                                 Traceback (most recent call last)",
      "Cell \u001b[0;32mIn[220], line 4\u001b[0m\n\u001b[1;32m      1\u001b[0m str1 \u001b[38;5;241m=\u001b[39m \u001b[38;5;124m\"\u001b[39m\u001b[38;5;124mABC\u001b[39m\u001b[38;5;124m\"\u001b[39m\n\u001b[0;32m----> 4\u001b[0m permute(\u001b[38;5;28;43mlist\u001b[39;49m\u001b[43m(\u001b[49m\u001b[43mstr1\u001b[49m\u001b[43m)\u001b[49m, \u001b[38;5;241m0\u001b[39m)\n",
      "\u001b[0;31mTypeError\u001b[0m: 'list' object is not callable"
     ]
    }
   ],
   "source": [
    "str1 = \"ABC\"\n",
    "\n",
    " \n",
    "permute(list(str1), 0)\n"
   ]
  },
  {
   "cell_type": "markdown",
   "id": "af6e686c-daec-4981-9d42-30a2055e7643",
   "metadata": {},
   "source": [
    "14. Implement a function to calculate the Fibonacci sequence up to a given number of terms.\n"
   ]
  },
  {
   "cell_type": "code",
   "execution_count": 221,
   "id": "d9d368af-eecf-4ccf-8bc5-974ee8af6939",
   "metadata": {},
   "outputs": [],
   "source": [
    "def fabbi(n):\n",
    "    a,b = 0,1\n",
    "    for i in range(n):\n",
    "        print(a+b)\n",
    "        a,b = b,a+b"
   ]
  },
  {
   "cell_type": "code",
   "execution_count": 222,
   "id": "bcf99b34-440f-4fd9-b1dd-a3f612584c68",
   "metadata": {},
   "outputs": [
    {
     "name": "stdout",
     "output_type": "stream",
     "text": [
      "1\n",
      "2\n",
      "3\n",
      "5\n",
      "8\n",
      "13\n",
      "21\n",
      "34\n",
      "55\n",
      "89\n"
     ]
    }
   ],
   "source": [
    "fabbi(10)"
   ]
  },
  {
   "cell_type": "markdown",
   "id": "2b06685b-27c6-4636-8366-3c5d39e0a0b2",
   "metadata": {},
   "source": [
    "15. Write a program to find the median of a list of numbers.\n"
   ]
  },
  {
   "cell_type": "code",
   "execution_count": 223,
   "id": "e1cca64b-2f90-403a-a9f0-9a49d3759f62",
   "metadata": {},
   "outputs": [],
   "source": [
    "def median(l):\n",
    "    sorted(l)\n",
    "    if len(l) % 2 == 0:\n",
    "        n = len(l)//2\n",
    "        return (l[n] + l[n-1])/2\n",
    "    else:\n",
    "        return l[(len(l)//2)-1]\n",
    "        "
   ]
  },
  {
   "cell_type": "code",
   "execution_count": 224,
   "id": "b90c74ed-ca51-400e-a065-32bf4579b7ff",
   "metadata": {},
   "outputs": [
    {
     "data": {
      "text/plain": [
       "6"
      ]
     },
     "execution_count": 224,
     "metadata": {},
     "output_type": "execute_result"
    }
   ],
   "source": [
    "l=[8,6,9,6,4]\n",
    "median(l)"
   ]
  },
  {
   "cell_type": "code",
   "execution_count": 225,
   "id": "9954d434-717d-488a-a320-4b1b984c2531",
   "metadata": {},
   "outputs": [
    {
     "data": {
      "text/plain": [
       "7.5"
      ]
     },
     "execution_count": 225,
     "metadata": {},
     "output_type": "execute_result"
    }
   ],
   "source": [
    "l=[8,6,9,6,5,4]\n",
    "median(l)"
   ]
  },
  {
   "cell_type": "markdown",
   "id": "3118b5ca-0854-4047-997e-12d841a0d895",
   "metadata": {},
   "source": [
    "16. Implement a function to check if a given list is sorted in non-decreasing order.\n"
   ]
  },
  {
   "cell_type": "code",
   "execution_count": 226,
   "id": "14ece3ba-d1fa-4c11-ad2f-b06018789231",
   "metadata": {},
   "outputs": [],
   "source": [
    "def check(l):\n",
    "    for i in range(len(l)-1):\n",
    "        \n",
    "        if(l[i])>l[i+1]:\n",
    "            return False\n",
    "    return True"
   ]
  },
  {
   "cell_type": "code",
   "execution_count": 227,
   "id": "2ee27601-2bd2-4e7d-b65c-b455cbd42186",
   "metadata": {},
   "outputs": [
    {
     "data": {
      "text/plain": [
       "False"
      ]
     },
     "execution_count": 227,
     "metadata": {},
     "output_type": "execute_result"
    }
   ],
   "source": [
    "check([9,8,7,6,5,4,3,2,1])"
   ]
  },
  {
   "cell_type": "code",
   "execution_count": 228,
   "id": "de7d2a49-fd21-44e7-a27f-3d44cfccc648",
   "metadata": {},
   "outputs": [
    {
     "data": {
      "text/plain": [
       "True"
      ]
     },
     "execution_count": 228,
     "metadata": {},
     "output_type": "execute_result"
    }
   ],
   "source": [
    "check([1,2,3,4,5,6,7,8,9])"
   ]
  },
  {
   "cell_type": "markdown",
   "id": "b3264bdf-4237-4971-86cf-f6446c84924b",
   "metadata": {},
   "source": [
    "17. Write a Python program to find the intersection of two lists.\n"
   ]
  },
  {
   "cell_type": "code",
   "execution_count": 229,
   "id": "4aea9e73-3e67-4cfe-bcb7-2a70220f7554",
   "metadata": {},
   "outputs": [],
   "source": [
    "def intersection_of_list(a,b):\n",
    "    \n",
    "    result = [i for i in a if i in b ]\n",
    "    return result\n",
    "    "
   ]
  },
  {
   "cell_type": "code",
   "execution_count": 230,
   "id": "1b2beee6-85e1-46f6-8d7f-4b6d13868730",
   "metadata": {},
   "outputs": [
    {
     "data": {
      "text/plain": [
       "[90, 11, 58, 31, 66, 28, 54]"
      ]
     },
     "execution_count": 230,
     "metadata": {},
     "output_type": "execute_result"
    }
   ],
   "source": [
    "list1 = [40, 90, 11, 58, 31, 66, 28, 54, 79]  \n",
    "list2 = [58, 90, 54, 31, 45, 11, 66, 28, 26]  \n",
    "intersection_of_list(list1,list2)"
   ]
  },
  {
   "cell_type": "markdown",
   "id": "84b68d18-f97c-4b9f-a625-170abff91d5a",
   "metadata": {},
   "source": [
    "18. Implement a function to find the maximum subarray sum in a given list.\n"
   ]
  },
  {
   "cell_type": "code",
   "execution_count": 231,
   "id": "e86d7003-432b-44b9-a9ea-d9266ceb43a8",
   "metadata": {},
   "outputs": [],
   "source": [
    "def maxSubArray(nums):\n",
    "    \n",
    "        sum =  0\n",
    "        maxi = nums[0]\n",
    "\n",
    "        for i in range(len(nums)):\n",
    "            \n",
    "            sum = sum + nums[i]\n",
    "\n",
    "            if(sum > maxi):\n",
    "                maxi = sum\n",
    "            \n",
    "            if(sum<0):\n",
    "                sum = 0\n",
    "\n",
    "        return sum"
   ]
  },
  {
   "cell_type": "code",
   "execution_count": 232,
   "id": "3c1005d3-361c-4b56-a02e-fc1cc3cace57",
   "metadata": {},
   "outputs": [],
   "source": [
    "nums = [1]"
   ]
  },
  {
   "cell_type": "code",
   "execution_count": 233,
   "id": "d61d575c-a4ab-4855-985d-ca9f732cb031",
   "metadata": {},
   "outputs": [
    {
     "data": {
      "text/plain": [
       "1"
      ]
     },
     "execution_count": 233,
     "metadata": {},
     "output_type": "execute_result"
    }
   ],
   "source": [
    "maxSubArray(nums)"
   ]
  },
  {
   "cell_type": "code",
   "execution_count": 234,
   "id": "421d841a-def6-434a-b078-3781d4f79eba",
   "metadata": {},
   "outputs": [],
   "source": [
    "nums = [5,4,-1,7,8]"
   ]
  },
  {
   "cell_type": "code",
   "execution_count": 235,
   "id": "4c4d261b-d86d-487d-af98-a0361b52ece6",
   "metadata": {},
   "outputs": [
    {
     "data": {
      "text/plain": [
       "23"
      ]
     },
     "execution_count": 235,
     "metadata": {},
     "output_type": "execute_result"
    }
   ],
   "source": [
    "maxSubArray(nums)"
   ]
  },
  {
   "cell_type": "markdown",
   "id": "a111b930-00d2-4808-9f03-0253bd1413b1",
   "metadata": {},
   "source": [
    "19. Write a program to remove all vowels from a given string.\n"
   ]
  },
  {
   "cell_type": "code",
   "execution_count": 236,
   "id": "5d4ccdef-656c-430c-90e4-3ca0bd81a32e",
   "metadata": {},
   "outputs": [],
   "source": [
    "def remove(l):\n",
    "    vovels = [\"a\",\"e\",\"i\",\"o\",\"u\",\"A\",\"E\",\"I\",\"O\",\"U\"]\n",
    "    result = [i for i in l if i not in vovels]\n",
    "    return \"\".join(result)"
   ]
  },
  {
   "cell_type": "code",
   "execution_count": 237,
   "id": "7413d778-b693-4076-b241-05b628d7c099",
   "metadata": {},
   "outputs": [],
   "source": [
    "a = \"leetcodeisacommunityforcoders\""
   ]
  },
  {
   "cell_type": "code",
   "execution_count": 238,
   "id": "49d845ca-1f4f-47bb-aeb9-abc83b4601b5",
   "metadata": {},
   "outputs": [
    {
     "data": {
      "text/plain": [
       "'ltcdscmmntyfrcdrs'"
      ]
     },
     "execution_count": 238,
     "metadata": {},
     "output_type": "execute_result"
    }
   ],
   "source": [
    "remove(a)"
   ]
  },
  {
   "cell_type": "markdown",
   "id": "c23e8535-d08a-4131-a8b4-f89407132161",
   "metadata": {},
   "source": [
    "20. Implement a function to reverse the order of words in a given sentence.\n"
   ]
  },
  {
   "cell_type": "code",
   "execution_count": 239,
   "id": "e4dc2f33-0e94-4365-93bd-8f932d209071",
   "metadata": {},
   "outputs": [],
   "source": [
    "s = \"i like this program very much\"\n"
   ]
  },
  {
   "cell_type": "code",
   "execution_count": 240,
   "id": "ad1426b6-0185-4241-b2b9-5a98cf960e53",
   "metadata": {},
   "outputs": [],
   "source": [
    "def rev_order(str1):\n",
    "    list = str1.split()\n",
    "    l = len(list)\n",
    "    for i in range(l//2):\n",
    "        list[i] , list[l-1] = list[l-1] , list[i]\n",
    "        l = l - 1\n",
    "    return \" \".join(list)"
   ]
  },
  {
   "cell_type": "code",
   "execution_count": 241,
   "id": "35d30415-55f2-46df-ae8a-6ece53e7ea05",
   "metadata": {},
   "outputs": [
    {
     "data": {
      "text/plain": [
       "'much very program this like i'"
      ]
     },
     "execution_count": 241,
     "metadata": {},
     "output_type": "execute_result"
    }
   ],
   "source": [
    "rev_order(s)"
   ]
  },
  {
   "cell_type": "markdown",
   "id": "c4a1b537-8f84-4ddd-94fe-ede1835009b2",
   "metadata": {},
   "source": [
    "21. Write a Python program to check if two strings are anagrams of each other.\n"
   ]
  },
  {
   "cell_type": "code",
   "execution_count": 242,
   "id": "5bd91bbd-4c2c-4855-b866-63f90e2a4b7d",
   "metadata": {},
   "outputs": [],
   "source": [
    "def anagram(str1 , str2):\n",
    "    str1 = set(str1)\n",
    "    str2 = set(str2)\n",
    "    if(str1 == str2):\n",
    "        return True\n",
    "    return False"
   ]
  },
  {
   "cell_type": "code",
   "execution_count": 243,
   "id": "f9923a0c-4dfd-4f34-adf5-dbcdfa6c693a",
   "metadata": {},
   "outputs": [],
   "source": [
    "str1 = \"bcda\"\n",
    "str2 = \"dcab\""
   ]
  },
  {
   "cell_type": "code",
   "execution_count": 244,
   "id": "c9a0d9a0-e5bf-41c4-bf3e-443feca31e9e",
   "metadata": {},
   "outputs": [
    {
     "data": {
      "text/plain": [
       "True"
      ]
     },
     "execution_count": 244,
     "metadata": {},
     "output_type": "execute_result"
    }
   ],
   "source": [
    "anagram(str1,str2)"
   ]
  },
  {
   "cell_type": "code",
   "execution_count": 245,
   "id": "0c664da3-0754-4149-a744-f5ee828eea72",
   "metadata": {},
   "outputs": [],
   "source": [
    "str1 = \"bcda\"\n",
    "str2 = \"dcavb\""
   ]
  },
  {
   "cell_type": "code",
   "execution_count": 246,
   "id": "227dca23-89f9-4388-95a0-67cd154a55dc",
   "metadata": {},
   "outputs": [
    {
     "data": {
      "text/plain": [
       "False"
      ]
     },
     "execution_count": 246,
     "metadata": {},
     "output_type": "execute_result"
    }
   ],
   "source": [
    "anagram(str1,str2)"
   ]
  },
  {
   "cell_type": "raw",
   "id": "cdd2e514-3b12-41e8-9b7a-c49f5b01ed90",
   "metadata": {},
   "source": [
    "22. Implement a function to find the first non-repeating character in a string.\n"
   ]
  },
  {
   "cell_type": "code",
   "execution_count": 247,
   "id": "a3a5f4ec-9100-4cd8-a560-3757beada4d6",
   "metadata": {},
   "outputs": [],
   "source": [
    "def fun(str1):\n",
    "            index = -1\n",
    "            fnc = \"\"\n",
    " \n",
    "            if len(str1) == 0 :\n",
    "                print(\"EMTPY STRING\");\n",
    " \n",
    "            for i in str1:\n",
    "                if str1.count(i) == 1:\n",
    "                    return i\n",
    "                    break\n",
    "            return False\n",
    "        "
   ]
  },
  {
   "cell_type": "code",
   "execution_count": 248,
   "id": "5ba0037a-25b3-480e-99ed-bcc177af3158",
   "metadata": {},
   "outputs": [
    {
     "data": {
      "text/plain": [
       "'r'"
      ]
     },
     "execution_count": 248,
     "metadata": {},
     "output_type": "execute_result"
    }
   ],
   "source": [
    "fun(\"prepinsta\")"
   ]
  },
  {
   "cell_type": "code",
   "execution_count": 249,
   "id": "9a01f4c6-d58f-4aab-b85c-316c3da85f87",
   "metadata": {},
   "outputs": [
    {
     "data": {
      "text/plain": [
       "'f'"
      ]
     },
     "execution_count": 249,
     "metadata": {},
     "output_type": "execute_result"
    }
   ],
   "source": [
    "fun(\"geeksforgeeks\")"
   ]
  },
  {
   "cell_type": "markdown",
   "id": "65acf55f-7772-4c2f-baa1-1ec2c797359d",
   "metadata": {},
   "source": [
    "23. Write a program to find the prime factors of a given number.\n"
   ]
  },
  {
   "cell_type": "code",
   "execution_count": 250,
   "id": "214d070b-dbc7-4c5a-be92-fc29e1c9a3d7",
   "metadata": {},
   "outputs": [],
   "source": [
    "def fact(n):\n",
    "    \n",
    "    p = 2\n",
    "    while(n>1):\n",
    "        \n",
    "        if(n%p == 0):\n",
    "            print(p)\n",
    "            n = n/p\n",
    "        else:\n",
    "            p +=1"
   ]
  },
  {
   "cell_type": "code",
   "execution_count": 251,
   "id": "8f0e28e9-cd84-4480-98f0-7c7054a739cd",
   "metadata": {},
   "outputs": [
    {
     "name": "stdout",
     "output_type": "stream",
     "text": [
      "3\n",
      "3\n",
      "5\n",
      "7\n"
     ]
    }
   ],
   "source": [
    "fact(315)"
   ]
  },
  {
   "cell_type": "code",
   "execution_count": 252,
   "id": "88334e3e-370c-4b7d-9224-3c2aa6114c8c",
   "metadata": {},
   "outputs": [
    {
     "name": "stdout",
     "output_type": "stream",
     "text": [
      "13\n",
      "79\n"
     ]
    }
   ],
   "source": [
    "fact(1027)"
   ]
  },
  {
   "cell_type": "markdown",
   "id": "4861f794-2191-48a7-bf13-0683f2924982",
   "metadata": {},
   "source": [
    "24. Implement a function to check if a given number is a power of two.\n"
   ]
  },
  {
   "cell_type": "code",
   "execution_count": 253,
   "id": "088f88f5-5e65-4772-be94-02290e8099f6",
   "metadata": {},
   "outputs": [],
   "source": [
    "def powerOfTwo(n):\n",
    "    \n",
    "        if(n==0):\n",
    "            return False\n",
    "        while(n != 1):\n",
    "        \n",
    "            n = n/2\n",
    "            if(n%2 != 0 and n != 1):\n",
    "                return False\n",
    "        \n",
    "        return True\n",
    "    "
   ]
  },
  {
   "cell_type": "code",
   "execution_count": 254,
   "id": "36fa5cc8-de90-4136-bfdd-003bef623c32",
   "metadata": {},
   "outputs": [
    {
     "data": {
      "text/plain": [
       "True"
      ]
     },
     "execution_count": 254,
     "metadata": {},
     "output_type": "execute_result"
    }
   ],
   "source": [
    "powerOfTwo(8)"
   ]
  },
  {
   "cell_type": "code",
   "execution_count": 255,
   "id": "32848e87-d8a7-4b87-b508-d2f9d50ee302",
   "metadata": {},
   "outputs": [
    {
     "data": {
      "text/plain": [
       "False"
      ]
     },
     "execution_count": 255,
     "metadata": {},
     "output_type": "execute_result"
    }
   ],
   "source": [
    "powerOfTwo(14)"
   ]
  },
  {
   "cell_type": "code",
   "execution_count": 256,
   "id": "761e69aa-5837-4e57-a8be-5ffc3a50da1a",
   "metadata": {},
   "outputs": [
    {
     "data": {
      "text/plain": [
       "False"
      ]
     },
     "execution_count": 256,
     "metadata": {},
     "output_type": "execute_result"
    }
   ],
   "source": [
    "powerOfTwo(9)"
   ]
  },
  {
   "cell_type": "markdown",
   "id": "1b3f8088-c7b3-4ae8-b486-23ecc823b0f2",
   "metadata": {},
   "source": [
    "25. Write a Python program to merge two sorted lists into a single sorted list.\n"
   ]
  },
  {
   "cell_type": "code",
   "execution_count": 257,
   "id": "bccb5d8d-5b8a-4dea-89ad-e7e3c51903e8",
   "metadata": {},
   "outputs": [],
   "source": [
    "def merge(l1 , l2):\n",
    "    l = []\n",
    "    left_l1 = 0\n",
    "    left_l2 = 0\n",
    "    r = len(l1) + len(l2)  - 1\n",
    "    for i in range(0,r):\n",
    "        if l1[left_l1] > l2[left_l2]:\n",
    "            l.append(l2[left_l2])\n",
    "            left_l2 += 1\n",
    "        else:\n",
    "            l.append(l1[left_l1])\n",
    "            left_l1 +=1\n",
    "    return l\n",
    "      "
   ]
  },
  {
   "cell_type": "code",
   "execution_count": 258,
   "id": "47e2ed4f-a4e4-40e6-94c4-140c1a1640c3",
   "metadata": {},
   "outputs": [
    {
     "data": {
      "text/plain": [
       "[1, 1, 2, 3, 4, 4, 5, 6, 7]"
      ]
     },
     "execution_count": 258,
     "metadata": {},
     "output_type": "execute_result"
    }
   ],
   "source": [
    "A = [1,2,4,7]  \n",
    "B = [1,3,4,5,6,8]\n",
    "merge(A,B)"
   ]
  },
  {
   "cell_type": "markdown",
   "id": "ff043154-1684-4a07-b70f-a68bfaf10195",
   "metadata": {},
   "source": [
    "26. Implement a function to find the mode of a list of numbers.\n"
   ]
  },
  {
   "cell_type": "code",
   "execution_count": 259,
   "id": "05ae3aa4-cf83-429c-8b9a-dbb1cbc67b4f",
   "metadata": {},
   "outputs": [],
   "source": [
    "def mode_(l):\n",
    "    count = 0\n",
    "    temp = 0\n",
    "    index = 0\n",
    "    \n",
    "    for i in range(0,len(l)):\n",
    "        \n",
    "        temp = l.count(l[i])\n",
    "        \n",
    "        if temp > count :\n",
    "            count = temp\n",
    "            index = i\n",
    "    return l[index]\n",
    "    \n",
    "     \n",
    "        "
   ]
  },
  {
   "cell_type": "code",
   "execution_count": 260,
   "id": "dd91d23f-0ff9-46cd-9f13-1518f5f30996",
   "metadata": {},
   "outputs": [],
   "source": [
    "l = [2,2,3,3,4,4,1,5,5,6,6,2,7,7,8,8,2,9,9,9,9,1,1,5,5,8,8,9,9]"
   ]
  },
  {
   "cell_type": "code",
   "execution_count": 261,
   "id": "bcce81a5-853d-4ef0-9e0e-770a531fefb8",
   "metadata": {},
   "outputs": [
    {
     "data": {
      "text/plain": [
       "9"
      ]
     },
     "execution_count": 261,
     "metadata": {},
     "output_type": "execute_result"
    }
   ],
   "source": [
    "mode_(l)"
   ]
  },
  {
   "cell_type": "markdown",
   "id": "1fe1334c-f2b8-4816-af82-942ac64bde29",
   "metadata": {},
   "source": [
    "27. Write a program to find the greatest common divisor (GCD) of two numbers.\n"
   ]
  },
  {
   "cell_type": "code",
   "execution_count": 262,
   "id": "1263c06f-cd4f-4fa5-9be8-72df06c36735",
   "metadata": {},
   "outputs": [],
   "source": [
    "def GCD(a,b):\n",
    "    gcd = 1\n",
    "\n",
    "    for i in range(1, min(a, b)):\n",
    "        if a % i == 0 and b % i == 0:\n",
    "            gcd = i\n",
    "    return gcd\n",
    "    "
   ]
  },
  {
   "cell_type": "code",
   "execution_count": 263,
   "id": "51fd4627-7d7c-4a25-a797-b11c71d609c2",
   "metadata": {},
   "outputs": [
    {
     "data": {
      "text/plain": [
       "12"
      ]
     },
     "execution_count": 263,
     "metadata": {},
     "output_type": "execute_result"
    }
   ],
   "source": [
    "GCD(36,60)"
   ]
  },
  {
   "cell_type": "markdown",
   "id": "9c6c3bd1-1cd1-4d87-b3a6-63925b319308",
   "metadata": {},
   "source": [
    "28. Implement a function to calculate the square root of a given number.\n"
   ]
  },
  {
   "cell_type": "code",
   "execution_count": 264,
   "id": "992544ab-826d-4a55-a0d4-9088d1eaa311",
   "metadata": {},
   "outputs": [],
   "source": [
    "def sq_root(x):\n",
    "    if (x == 0 or x == 1):\n",
    "        return x\n",
    "    start = 1\n",
    "    end = x//2\n",
    "    \n",
    "    while(start<=end):\n",
    "        \n",
    "        mid = (start + end)//2\n",
    "        \n",
    "        if(mid*mid == x):\n",
    "            return mid\n",
    "        if mid*mid<x:\n",
    "            start +=1\n",
    "            ans = mid\n",
    "        else:\n",
    "            end = mid-1\n",
    "    return ans\n"
   ]
  },
  {
   "cell_type": "code",
   "execution_count": 265,
   "id": "d6254e6f-2a9d-4164-ac6f-21ecc2a12a54",
   "metadata": {},
   "outputs": [
    {
     "data": {
      "text/plain": [
       "2"
      ]
     },
     "execution_count": 265,
     "metadata": {},
     "output_type": "execute_result"
    }
   ],
   "source": [
    "sq_root(4)"
   ]
  },
  {
   "cell_type": "code",
   "execution_count": 266,
   "id": "2a4b3796-31e6-4623-95e0-6cdedc11842d",
   "metadata": {},
   "outputs": [
    {
     "data": {
      "text/plain": [
       "3"
      ]
     },
     "execution_count": 266,
     "metadata": {},
     "output_type": "execute_result"
    }
   ],
   "source": [
    "sq_root(11)    #The square root of 11 lies in between 3 and 4 so floor of the square root is 3."
   ]
  },
  {
   "cell_type": "markdown",
   "id": "fdf70090-952e-45fb-8702-b635b3f692ad",
   "metadata": {},
   "source": [
    "29. Write a Python program to check if a given string is a valid palindrome ignoring non-alphanumeric characters.\n"
   ]
  },
  {
   "cell_type": "code",
   "execution_count": 267,
   "id": "6378d831-2ff4-412c-8dd4-0bb8b02d917f",
   "metadata": {},
   "outputs": [],
   "source": [
    "def isPalindrome(s):\n",
    "\n",
    "        l=0\n",
    "        h=len(s)-1\n",
    "\n",
    "        while(l<h):\n",
    "\n",
    "            while(l<h) and not s[l].isalnum():\n",
    "                l+=1\n",
    "            while(l<h) and not s[h].isalnum():\n",
    "                h-=1\n",
    "            \n",
    "            if(s[l].lower() != s[h].lower()):\n",
    "                return False\n",
    "            \n",
    "            l += 1\n",
    "            h -=1\n",
    "        return True\n"
   ]
  },
  {
   "cell_type": "code",
   "execution_count": 268,
   "id": "f3cd1e4a-128e-43cb-9d62-c6ff2349d6ca",
   "metadata": {},
   "outputs": [],
   "source": [
    "s = \"A man, a plan, a canal: Panama\""
   ]
  },
  {
   "cell_type": "code",
   "execution_count": 269,
   "id": "04be61db-d691-41aa-8167-dca3be62c417",
   "metadata": {},
   "outputs": [
    {
     "data": {
      "text/plain": [
       "True"
      ]
     },
     "execution_count": 269,
     "metadata": {},
     "output_type": "execute_result"
    }
   ],
   "source": [
    "isPalindrome(s)"
   ]
  },
  {
   "cell_type": "markdown",
   "id": "04807970-6f76-450c-9bc4-30180317aca6",
   "metadata": {},
   "source": [
    "30. Implement a function to find the minimum element in a rotated sorted list.\n"
   ]
  },
  {
   "cell_type": "code",
   "execution_count": 270,
   "id": "a4cff11f-dc51-4357-ae87-289f5e9a474f",
   "metadata": {},
   "outputs": [],
   "source": [
    "def minimum(n):\n",
    "    n= sorted(n)\n",
    "    return n[0]"
   ]
  },
  {
   "cell_type": "code",
   "execution_count": 271,
   "id": "2cc8106f-2a47-42d0-8696-73b87a3842db",
   "metadata": {},
   "outputs": [
    {
     "data": {
      "text/plain": [
       "1"
      ]
     },
     "execution_count": 271,
     "metadata": {},
     "output_type": "execute_result"
    }
   ],
   "source": [
    "minimum([3,4,5,1,2])"
   ]
  },
  {
   "cell_type": "code",
   "execution_count": 272,
   "id": "a0ebd94c-de15-4b98-a16b-d08954030595",
   "metadata": {},
   "outputs": [
    {
     "data": {
      "text/plain": [
       "0"
      ]
     },
     "execution_count": 272,
     "metadata": {},
     "output_type": "execute_result"
    }
   ],
   "source": [
    "minimum([4,5,6,7,0,1,2])"
   ]
  },
  {
   "cell_type": "code",
   "execution_count": 273,
   "id": "1394770e-4593-4bad-aa9c-ebb34c1c3a90",
   "metadata": {},
   "outputs": [
    {
     "data": {
      "text/plain": [
       "11"
      ]
     },
     "execution_count": 273,
     "metadata": {},
     "output_type": "execute_result"
    }
   ],
   "source": [
    "minimum([11,13,15,17])"
   ]
  },
  {
   "cell_type": "markdown",
   "id": "0cad8cb0-786c-47ba-852b-0d9f1ee10639",
   "metadata": {},
   "source": [
    "31. Write a program to find the sum of all even numbers in a list.\n"
   ]
  },
  {
   "cell_type": "code",
   "execution_count": 274,
   "id": "2743873f-be3a-4708-924c-239558cbc50e",
   "metadata": {},
   "outputs": [],
   "source": [
    "def sum_even(nums):\n",
    "    \n",
    "    sum = 0\n",
    "    for i in range(0,len(nums)):\n",
    "        if nums[i] % 2 == 0:\n",
    "            sum += nums[i]\n",
    "    return sum"
   ]
  },
  {
   "cell_type": "code",
   "execution_count": 275,
   "id": "5ae89df7-1027-41a0-a661-a5129cf48cc4",
   "metadata": {},
   "outputs": [],
   "source": [
    "nums = [2,8,6,5,7,9,1,3]"
   ]
  },
  {
   "cell_type": "code",
   "execution_count": 276,
   "id": "72a2ceae-f8f4-4807-b374-86e66cd69755",
   "metadata": {},
   "outputs": [
    {
     "data": {
      "text/plain": [
       "16"
      ]
     },
     "execution_count": 276,
     "metadata": {},
     "output_type": "execute_result"
    }
   ],
   "source": [
    "sum_even(nums)"
   ]
  },
  {
   "cell_type": "markdown",
   "id": "ec3ce0d9-d8d1-4f68-9fd9-cbfca6c37c3f",
   "metadata": {},
   "source": [
    "32. Implement a function to calculate the power of a number using recursion.\n"
   ]
  },
  {
   "cell_type": "code",
   "execution_count": 277,
   "id": "ef589d2e-a721-4897-8f36-fbbe0641df26",
   "metadata": {},
   "outputs": [],
   "source": [
    "def pow(num , x):\n",
    "    \n",
    "    if x == 1 or x == 0:\n",
    "        return num\n",
    "    else:\n",
    "        return num * pow(num , x-1)"
   ]
  },
  {
   "cell_type": "code",
   "execution_count": 278,
   "id": "1899db8e-f14e-4ade-a7dc-5dfe1feebf96",
   "metadata": {},
   "outputs": [
    {
     "data": {
      "text/plain": [
       "1024"
      ]
     },
     "execution_count": 278,
     "metadata": {},
     "output_type": "execute_result"
    }
   ],
   "source": [
    "pow(2,10)"
   ]
  },
  {
   "cell_type": "code",
   "execution_count": 279,
   "id": "8dd4e51b-8347-439f-921b-9ffa627de739",
   "metadata": {},
   "outputs": [
    {
     "data": {
      "text/plain": [
       "100"
      ]
     },
     "execution_count": 279,
     "metadata": {},
     "output_type": "execute_result"
    }
   ],
   "source": [
    "pow(10,2)"
   ]
  },
  {
   "cell_type": "markdown",
   "id": "4f060950-965c-41f7-addc-20252bc5dfa7",
   "metadata": {},
   "source": [
    "33. Write a Python program to remove duplicates from a list while preserving the order.\n"
   ]
  },
  {
   "cell_type": "code",
   "execution_count": 280,
   "id": "9189833e-23b1-43a1-b9b6-c53fe5ffaa6d",
   "metadata": {},
   "outputs": [],
   "source": [
    "def Remove(l):\n",
    "    final_list = []\n",
    "    for k in l:\n",
    "        if k not in final_list:\n",
    "            final_list.append(k)\n",
    "    return final_list"
   ]
  },
  {
   "cell_type": "code",
   "execution_count": 281,
   "id": "2aa2e620-73db-45a9-acd4-29dc55b9bd2b",
   "metadata": {},
   "outputs": [
    {
     "data": {
      "text/plain": [
       "[2, 4, 10, 20, 5]"
      ]
     },
     "execution_count": 281,
     "metadata": {},
     "output_type": "execute_result"
    }
   ],
   "source": [
    "Remove([2, 4, 10, 20, 5, 2, 20, 4])"
   ]
  },
  {
   "cell_type": "markdown",
   "id": "7234d2af-fefc-42b5-b341-faad71f13998",
   "metadata": {},
   "source": [
    "34. Implement a function to find the longest common prefix among a list of strings.\n"
   ]
  },
  {
   "cell_type": "code",
   "execution_count": 282,
   "id": "178c4236-08bb-48db-9914-9cb16bced8f9",
   "metadata": {},
   "outputs": [],
   "source": [
    "def longestCommonPrefix(strs):\n",
    "\n",
    "        match = True\n",
    "        ans = \"\"\n",
    "        \n",
    "    \n",
    "        for i in range(0,len(strs)-1):\n",
    "\n",
    "\n",
    "\n",
    "            ch = strs[0][i]\n",
    "\n",
    "\n",
    "            for j in range(1,len(strs)):\n",
    "\n",
    "                if(ch != strs[j][i]):\n",
    "                    match =False\n",
    "                    break\n",
    "                \n",
    "            if(match == False):\n",
    "                break\n",
    "            else:\n",
    "                ans = ans + ch\n",
    "        return ans\n",
    "\n"
   ]
  },
  {
   "cell_type": "code",
   "execution_count": 283,
   "id": "8cb7acc8-5b64-4cd8-8840-60c13b8ae0b2",
   "metadata": {},
   "outputs": [
    {
     "data": {
      "text/plain": [
       "'fl'"
      ]
     },
     "execution_count": 283,
     "metadata": {},
     "output_type": "execute_result"
    }
   ],
   "source": [
    "longestCommonPrefix([\"flower\",\"flow\",\"flight\"])"
   ]
  },
  {
   "cell_type": "code",
   "execution_count": 284,
   "id": "421feb2f-48fd-4b88-92b1-11caebf23ca7",
   "metadata": {},
   "outputs": [
    {
     "data": {
      "text/plain": [
       "''"
      ]
     },
     "execution_count": 284,
     "metadata": {},
     "output_type": "execute_result"
    }
   ],
   "source": [
    "longestCommonPrefix([\"dog\",\"racecar\",\"car\"])"
   ]
  },
  {
   "cell_type": "markdown",
   "id": "78337b0f-21f3-4bb7-9ea0-0515560ac343",
   "metadata": {},
   "source": [
    "35. Write a program to check if a given number is a perfect square.\n"
   ]
  },
  {
   "cell_type": "code",
   "execution_count": 285,
   "id": "31b6b48d-677a-48c9-81e0-157fe78afba2",
   "metadata": {},
   "outputs": [],
   "source": [
    "def check(num):\n",
    "    if num == 0 or num == 1 or num == 2 or num == 3:\n",
    "        return False\n",
    "    l = 4\n",
    "    while(l>3):\n",
    "         \n",
    "            if l*l == num:\n",
    "                return True\n",
    "            else :\n",
    "                l += 1\n",
    "    return False\n",
    "            "
   ]
  },
  {
   "cell_type": "code",
   "execution_count": 286,
   "id": "eeab5b66-e8b4-45ef-b5eb-18f8d36ddc5c",
   "metadata": {},
   "outputs": [
    {
     "data": {
      "text/plain": [
       "True"
      ]
     },
     "execution_count": 286,
     "metadata": {},
     "output_type": "execute_result"
    }
   ],
   "source": [
    "check(49)"
   ]
  },
  {
   "cell_type": "code",
   "execution_count": 287,
   "id": "97115f40-f1cb-449d-81f4-a79b385aa1bd",
   "metadata": {},
   "outputs": [
    {
     "data": {
      "text/plain": [
       "True"
      ]
     },
     "execution_count": 287,
     "metadata": {},
     "output_type": "execute_result"
    }
   ],
   "source": [
    "check(100)"
   ]
  },
  {
   "cell_type": "markdown",
   "id": "b7330638-3f78-4ce4-93a0-a97712f8da92",
   "metadata": {},
   "source": [
    "36. Implement a function to calculate the product of all elements in a list.\n"
   ]
  },
  {
   "cell_type": "code",
   "execution_count": 288,
   "id": "57aa0efd-f0fa-46e4-8b10-877650b26796",
   "metadata": {},
   "outputs": [],
   "source": [
    "def prod(l):\n",
    "    \n",
    "    p = 1\n",
    "    for i in range(len(l)):\n",
    "        p = p*l[i]\n",
    "    return p"
   ]
  },
  {
   "cell_type": "code",
   "execution_count": 289,
   "id": "0c8e7430-241a-4b13-9995-fbcc74128f14",
   "metadata": {},
   "outputs": [
    {
     "data": {
      "text/plain": [
       "10"
      ]
     },
     "execution_count": 289,
     "metadata": {},
     "output_type": "execute_result"
    }
   ],
   "source": [
    "prod([2,5])"
   ]
  },
  {
   "cell_type": "code",
   "execution_count": 290,
   "id": "a2b86626-4859-4d5e-a6a2-13972f5b6b94",
   "metadata": {},
   "outputs": [
    {
     "data": {
      "text/plain": [
       "204750"
      ]
     },
     "execution_count": 290,
     "metadata": {},
     "output_type": "execute_result"
    }
   ],
   "source": [
    "prod([5,10,9,65,7])"
   ]
  },
  {
   "cell_type": "markdown",
   "id": "f12f198a-ab29-4874-9c61-7291743b6a21",
   "metadata": {},
   "source": [
    "37. Write a Python program to reverse the order of words in a sentence while preserving the word order.\n"
   ]
  },
  {
   "cell_type": "code",
   "execution_count": 291,
   "id": "c98d2569-c84a-451a-b05e-6113d193cbc9",
   "metadata": {},
   "outputs": [],
   "source": [
    "def rev_order(str1):\n",
    "    list = str1.split()\n",
    "    l = len(list)\n",
    "    for i in range(l//2):\n",
    "        list[i] , list[l-1] = list[l-1] , list[i]\n",
    "        l = l - 1\n",
    "    return \" \".join(list)"
   ]
  },
  {
   "cell_type": "code",
   "execution_count": 292,
   "id": "a0af270f-d653-4433-90e4-135b560e7e9f",
   "metadata": {},
   "outputs": [
    {
     "data": {
      "text/plain": [
       "'code practice quiz geeks'"
      ]
     },
     "execution_count": 292,
     "metadata": {},
     "output_type": "execute_result"
    }
   ],
   "source": [
    "rev_order(\"geeks quiz practice code\")"
   ]
  },
  {
   "cell_type": "code",
   "execution_count": 293,
   "id": "22fd64f4-d5e4-4d9d-b908-cd1d442ef6f4",
   "metadata": {},
   "outputs": [
    {
     "data": {
      "text/plain": [
       "'laxmi is name my'"
      ]
     },
     "execution_count": 293,
     "metadata": {},
     "output_type": "execute_result"
    }
   ],
   "source": [
    "rev_order(\"my name is laxmi\")"
   ]
  },
  {
   "cell_type": "markdown",
   "id": "a757c1f2-43e9-496f-9533-4df3072e4f56",
   "metadata": {},
   "source": [
    "38. Implement a function to find the missing number in a given list of consecutive numbers.\n"
   ]
  },
  {
   "cell_type": "code",
   "execution_count": 294,
   "id": "32dc7d48-add4-431c-8c3a-70016fa2fdcf",
   "metadata": {},
   "outputs": [],
   "source": [
    "def missingNumber(nums):\n",
    "\n",
    "        n= len(nums)+1\n",
    "\n",
    "        arr = [False]*n\n",
    "\n",
    "        for i in range(len(nums)):\n",
    "\n",
    "            arr[nums[i]] = True\n",
    "        \n",
    "        for i in range(len(arr)):\n",
    "            if(arr[i])==False:\n",
    "                return i\n",
    "        return False\n",
    "\n",
    "            "
   ]
  },
  {
   "cell_type": "code",
   "execution_count": 295,
   "id": "3464359d-b5d0-4a10-a413-7530e28e753d",
   "metadata": {},
   "outputs": [
    {
     "data": {
      "text/plain": [
       "2"
      ]
     },
     "execution_count": 295,
     "metadata": {},
     "output_type": "execute_result"
    }
   ],
   "source": [
    "missingNumber([3,0,1])"
   ]
  },
  {
   "cell_type": "code",
   "execution_count": 296,
   "id": "bcfcc2d2-adea-4b97-857c-c0b861ac1014",
   "metadata": {},
   "outputs": [
    {
     "data": {
      "text/plain": [
       "2"
      ]
     },
     "execution_count": 296,
     "metadata": {},
     "output_type": "execute_result"
    }
   ],
   "source": [
    "missingNumber([0,1])"
   ]
  },
  {
   "cell_type": "code",
   "execution_count": 297,
   "id": "9cec6aa8-a2fc-4823-a065-d2d90188a5cd",
   "metadata": {},
   "outputs": [
    {
     "data": {
      "text/plain": [
       "8"
      ]
     },
     "execution_count": 297,
     "metadata": {},
     "output_type": "execute_result"
    }
   ],
   "source": [
    "missingNumber([9,6,4,2,3,5,7,0,1])"
   ]
  },
  {
   "cell_type": "markdown",
   "id": "b1f9371e-eaa1-4d52-b6db-d98eac541fc3",
   "metadata": {},
   "source": [
    "39. Write a program to find the sum of digits of a given number.\n"
   ]
  },
  {
   "cell_type": "code",
   "execution_count": 298,
   "id": "439058ee-3cac-4a51-8d5a-5ee8dd6f7148",
   "metadata": {},
   "outputs": [],
   "source": [
    "def sum_of_digit(num):\n",
    "    sum = 0\n",
    "    while(num>0):\n",
    "        sum += num % 10\n",
    "        num = num//10\n",
    "    return sum\n",
    "        "
   ]
  },
  {
   "cell_type": "code",
   "execution_count": 299,
   "id": "1e8d556a-5cd0-41fb-91c9-81b71a38fff8",
   "metadata": {},
   "outputs": [
    {
     "data": {
      "text/plain": [
       "6"
      ]
     },
     "execution_count": 299,
     "metadata": {},
     "output_type": "execute_result"
    }
   ],
   "source": [
    "sum_of_digit(123)"
   ]
  },
  {
   "cell_type": "code",
   "execution_count": 300,
   "id": "99f47909-47de-4697-a1d1-ff70a19f34a1",
   "metadata": {},
   "outputs": [
    {
     "data": {
      "text/plain": [
       "11"
      ]
     },
     "execution_count": 300,
     "metadata": {},
     "output_type": "execute_result"
    }
   ],
   "source": [
    "sum_of_digit(12053)"
   ]
  },
  {
   "cell_type": "markdown",
   "id": "702a1fe6-b26a-4ed8-b6aa-3efe4ec3963e",
   "metadata": {},
   "source": [
    "40. Implement a function to check if a given string is a valid palindrome considering case sensitivity.\n"
   ]
  },
  {
   "cell_type": "code",
   "execution_count": 301,
   "id": "a30a6730-4de9-44d5-9f5d-42dbf853228f",
   "metadata": {},
   "outputs": [],
   "source": [
    "def palandrom(string):\n",
    "    if(string == string[::-1]):\n",
    "        return True\n",
    "    else:\n",
    "        return False"
   ]
  },
  {
   "cell_type": "code",
   "execution_count": 302,
   "id": "d3e148e5-7c2e-439a-8817-1d4c08ef67ba",
   "metadata": {},
   "outputs": [
    {
     "data": {
      "text/plain": [
       "True"
      ]
     },
     "execution_count": 302,
     "metadata": {},
     "output_type": "execute_result"
    }
   ],
   "source": [
    "palandrom(\"malayalam\")"
   ]
  },
  {
   "cell_type": "code",
   "execution_count": 303,
   "id": "0afc02e1-a047-4f54-8586-53e8a432f38b",
   "metadata": {},
   "outputs": [
    {
     "data": {
      "text/plain": [
       "False"
      ]
     },
     "execution_count": 303,
     "metadata": {},
     "output_type": "execute_result"
    }
   ],
   "source": [
    "palandrom(\"Malayalam\")"
   ]
  },
  {
   "cell_type": "markdown",
   "id": "0287c276-2572-4972-a23f-8224937e514e",
   "metadata": {},
   "source": [
    "41. Write a Python program to find the smallest missing positive integer in a list.\n"
   ]
  },
  {
   "cell_type": "code",
   "execution_count": 304,
   "id": "73637770-6474-4484-98b7-032a49649f98",
   "metadata": {},
   "outputs": [],
   "source": [
    "def firstMissingPositive(nums):\n",
    "\n",
    "        positive_integer = set()\n",
    "        max_num = 0\n",
    "\n",
    "        for i in nums:\n",
    "            if i > 0:\n",
    "                positive_integer.add(i)\n",
    "                max_num = max(max_num,i)\n",
    "\n",
    "        for i in range(1,max_num + 2):\n",
    "            if i not in positive_integer:\n",
    "                return i\n",
    "        "
   ]
  },
  {
   "cell_type": "code",
   "execution_count": 305,
   "id": "b587174e-40e3-459c-a7d2-5540becc9148",
   "metadata": {},
   "outputs": [
    {
     "data": {
      "text/plain": [
       "3"
      ]
     },
     "execution_count": 305,
     "metadata": {},
     "output_type": "execute_result"
    }
   ],
   "source": [
    "firstMissingPositive([1,2,0])"
   ]
  },
  {
   "cell_type": "code",
   "execution_count": 306,
   "id": "bb27518e-6b97-4514-94eb-2fa3b9302398",
   "metadata": {},
   "outputs": [
    {
     "data": {
      "text/plain": [
       "2"
      ]
     },
     "execution_count": 306,
     "metadata": {},
     "output_type": "execute_result"
    }
   ],
   "source": [
    "firstMissingPositive([3,4,-1,1])"
   ]
  },
  {
   "cell_type": "code",
   "execution_count": 307,
   "id": "93288bb4-97ce-4b99-9be2-76ff3a794ed1",
   "metadata": {},
   "outputs": [
    {
     "data": {
      "text/plain": [
       "1"
      ]
     },
     "execution_count": 307,
     "metadata": {},
     "output_type": "execute_result"
    }
   ],
   "source": [
    "firstMissingPositive([7,8,9,11,12])"
   ]
  },
  {
   "cell_type": "markdown",
   "id": "5e5973a1-5b7f-4dd1-a996-9f5a9b5cc32f",
   "metadata": {},
   "source": [
    "42. Implement a function to find the longest palindrome substring in a given string.\n"
   ]
  },
  {
   "cell_type": "code",
   "execution_count": 308,
   "id": "3c9a333e-6f11-4e06-b698-93b5bf997d06",
   "metadata": {},
   "outputs": [],
   "source": [
    "def longestPalindrome(s):\n",
    "\n",
    "        res = \"\"\n",
    "        resLen = 0\n",
    "\n",
    "        for i in range(len(s)):\n",
    "\n",
    "            l,r = i,i\n",
    "            while l>=0 and r<len(s) and s[l] == s[r]:\n",
    "                if (r-l+1)>resLen:\n",
    "                    res = s[l:r+1]\n",
    "                    resLen = r-l+1\n",
    "                l -= 1\n",
    "                r += 1\n",
    "\n",
    "            l,r = i,i+1\n",
    "            while l>=0 and r<len(s) and s[l] == s[r]:\n",
    "                if (r-l+1)>resLen:\n",
    "                    res = s[l:r+1]\n",
    "                    resLen = r-l+1\n",
    "                l -= 1\n",
    "                r += 1\n",
    "            \n",
    "        return res"
   ]
  },
  {
   "cell_type": "code",
   "execution_count": 309,
   "id": "5da5f7ed-9d53-418f-9e35-e0f4e9243beb",
   "metadata": {},
   "outputs": [
    {
     "data": {
      "text/plain": [
       "'bab'"
      ]
     },
     "execution_count": 309,
     "metadata": {},
     "output_type": "execute_result"
    }
   ],
   "source": [
    "longestPalindrome(\"babad\")"
   ]
  },
  {
   "cell_type": "code",
   "execution_count": 310,
   "id": "7fc5ea89-fc45-4600-8261-bffdc7b19f8f",
   "metadata": {},
   "outputs": [
    {
     "data": {
      "text/plain": [
       "'bb'"
      ]
     },
     "execution_count": 310,
     "metadata": {},
     "output_type": "execute_result"
    }
   ],
   "source": [
    "longestPalindrome(\"cbbd\")"
   ]
  },
  {
   "cell_type": "markdown",
   "id": "424fd32b-c422-465f-a22e-9475c6dc2a4b",
   "metadata": {},
   "source": [
    "43. Write a program to find the number of occurrences of a given element in a list.\n"
   ]
  },
  {
   "cell_type": "code",
   "execution_count": 311,
   "id": "b5689850-2370-44fb-9d46-563ed61f6ae4",
   "metadata": {},
   "outputs": [],
   "source": [
    "def count(l,x):\n",
    "    count = 0\n",
    "    for i in range(0,len(l)):\n",
    "        if(l[i]==x):\n",
    "            count += 1\n",
    "    return count\n",
    "    "
   ]
  },
  {
   "cell_type": "code",
   "execution_count": 312,
   "id": "8dff2003-8244-44b5-9f7a-738093e0b5fd",
   "metadata": {},
   "outputs": [],
   "source": [
    "list=[2, 4, 1, 7, 9, 10, 12, 17, 1] \n",
    "n=1"
   ]
  },
  {
   "cell_type": "code",
   "execution_count": 313,
   "id": "52ae396f-2106-4456-a93c-3362309cd3c9",
   "metadata": {},
   "outputs": [
    {
     "data": {
      "text/plain": [
       "2"
      ]
     },
     "execution_count": 313,
     "metadata": {},
     "output_type": "execute_result"
    }
   ],
   "source": [
    "count(list,n)"
   ]
  },
  {
   "cell_type": "code",
   "execution_count": 314,
   "id": "6b70e0bd-bb99-44ea-a0d7-f948e4d80461",
   "metadata": {},
   "outputs": [],
   "source": [
    "list=[3, 4, 5, 7, 8, 10, 2] \n",
    "n=1"
   ]
  },
  {
   "cell_type": "code",
   "execution_count": 315,
   "id": "a61435d0-c400-4b7c-9c97-b04240baeb2b",
   "metadata": {},
   "outputs": [
    {
     "data": {
      "text/plain": [
       "0"
      ]
     },
     "execution_count": 315,
     "metadata": {},
     "output_type": "execute_result"
    }
   ],
   "source": [
    "count(list,n)"
   ]
  },
  {
   "cell_type": "markdown",
   "id": "3612f366-84d5-46d7-9325-a44562cebfda",
   "metadata": {},
   "source": [
    "44. Implement a function to check if a given number is a perfect number.\n"
   ]
  },
  {
   "cell_type": "code",
   "execution_count": 316,
   "id": "ec761d38-e2a6-49de-8550-7cd7d099686d",
   "metadata": {},
   "outputs": [],
   "source": [
    "def checkPerfectNumber(num):\n",
    "        \n",
    "        if num <= 9:\n",
    "            return False\n",
    "\n",
    "        sum = 0\n",
    "        for i in range(1, num):\n",
    "            if num % i == 0:\n",
    "                sum += i\n",
    "        \n",
    "\n",
    "\n",
    "        if sum == num:\n",
    "            return True\n",
    "        else:\n",
    "            return False\n"
   ]
  },
  {
   "cell_type": "code",
   "execution_count": 317,
   "id": "02d52adf-8269-49e1-8dce-1cd2e41b4cd3",
   "metadata": {},
   "outputs": [
    {
     "data": {
      "text/plain": [
       "True"
      ]
     },
     "execution_count": 317,
     "metadata": {},
     "output_type": "execute_result"
    }
   ],
   "source": [
    "checkPerfectNumber(28)"
   ]
  },
  {
   "cell_type": "code",
   "execution_count": 318,
   "id": "53250021-f6f7-4ec1-99cf-dca61d7b56bd",
   "metadata": {},
   "outputs": [
    {
     "data": {
      "text/plain": [
       "False"
      ]
     },
     "execution_count": 318,
     "metadata": {},
     "output_type": "execute_result"
    }
   ],
   "source": [
    "checkPerfectNumber(7)"
   ]
  },
  {
   "cell_type": "code",
   "execution_count": 319,
   "id": "858be0f8-dfdd-4110-8f7e-e3f33c194abd",
   "metadata": {},
   "outputs": [
    {
     "data": {
      "text/plain": [
       "False"
      ]
     },
     "execution_count": 319,
     "metadata": {},
     "output_type": "execute_result"
    }
   ],
   "source": [
    "checkPerfectNumber(7)"
   ]
  },
  {
   "cell_type": "markdown",
   "id": "739582a3-6144-4d61-b5c8-417ef77a1cd1",
   "metadata": {},
   "source": [
    "45. Write a Python program to remove all duplicates from a string.\n"
   ]
  },
  {
   "cell_type": "code",
   "execution_count": 320,
   "id": "271a7518-aae3-4ac2-b99b-667880a407ef",
   "metadata": {},
   "outputs": [],
   "source": [
    "def remove(string):\n",
    "    string = set(string)\n",
    "    return \"\".join(string)"
   ]
  },
  {
   "cell_type": "code",
   "execution_count": 321,
   "id": "a618f03f-8b48-4fd0-bf0d-a26f73559bd5",
   "metadata": {},
   "outputs": [
    {
     "data": {
      "text/plain": [
       "'grokfse'"
      ]
     },
     "execution_count": 321,
     "metadata": {},
     "output_type": "execute_result"
    }
   ],
   "source": [
    "remove(\"geeksforgeeks\")"
   ]
  },
  {
   "cell_type": "code",
   "execution_count": 322,
   "id": "d0531ec8-9400-4191-8b3e-f6d93b8ac84b",
   "metadata": {},
   "outputs": [
    {
     "data": {
      "text/plain": [
       "'ctlode'"
      ]
     },
     "execution_count": 322,
     "metadata": {},
     "output_type": "execute_result"
    }
   ],
   "source": [
    "remove(\"leetcode\")"
   ]
  },
  {
   "cell_type": "markdown",
   "id": "54f6efd1-2898-4f5f-8a54-88ad0b455037",
   "metadata": {},
   "source": [
    "46. Implement a function to find the first missing positive\n"
   ]
  },
  {
   "cell_type": "code",
   "execution_count": 323,
   "id": "eb5fc700-9a84-4135-8da2-46b227eab62d",
   "metadata": {},
   "outputs": [],
   "source": [
    "def firstMissingPositive(nums):\n",
    "\n",
    "        positive_integer = set()\n",
    "        max_num = 0\n",
    "\n",
    "        for i in nums:\n",
    "            if i > 0:\n",
    "                positive_integer.add(i)\n",
    "                max_num = max(max_num,i)\n",
    "\n",
    "        for i in range(1,max_num + 2):\n",
    "            if i not in positive_integer:\n",
    "                return i\n",
    "        "
   ]
  },
  {
   "cell_type": "code",
   "execution_count": 324,
   "id": "43cf4a66-327c-4c4a-8b83-02b4cd6b53f8",
   "metadata": {},
   "outputs": [
    {
     "data": {
      "text/plain": [
       "3"
      ]
     },
     "execution_count": 324,
     "metadata": {},
     "output_type": "execute_result"
    }
   ],
   "source": [
    "firstMissingPositive([1,2,0])"
   ]
  },
  {
   "cell_type": "code",
   "execution_count": 325,
   "id": "f5e6e957-1fd6-43c2-a6ed-416aa8f7ef5f",
   "metadata": {},
   "outputs": [
    {
     "data": {
      "text/plain": [
       "2"
      ]
     },
     "execution_count": 325,
     "metadata": {},
     "output_type": "execute_result"
    }
   ],
   "source": [
    "firstMissingPositive([3,4,-1,1])\n"
   ]
  },
  {
   "cell_type": "code",
   "execution_count": 326,
   "id": "9803f4a0-6107-4c7c-904e-2ec9316095f9",
   "metadata": {},
   "outputs": [
    {
     "data": {
      "text/plain": [
       "1"
      ]
     },
     "execution_count": 326,
     "metadata": {},
     "output_type": "execute_result"
    }
   ],
   "source": [
    "firstMissingPositive([7,8,9,11,12])"
   ]
  }
 ],
 "metadata": {
  "kernelspec": {
   "display_name": "Python 3 (ipykernel)",
   "language": "python",
   "name": "python3"
  },
  "language_info": {
   "codemirror_mode": {
    "name": "ipython",
    "version": 3
   },
   "file_extension": ".py",
   "mimetype": "text/x-python",
   "name": "python",
   "nbconvert_exporter": "python",
   "pygments_lexer": "ipython3",
   "version": "3.10.8"
  }
 },
 "nbformat": 4,
 "nbformat_minor": 5
}
