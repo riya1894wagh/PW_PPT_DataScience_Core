{
 "cells": [
  {
   "cell_type": "markdown",
   "id": "4e0faaa9-327b-4628-85f7-0847e01476d4",
   "metadata": {},
   "source": [
    "1.  Scenario: A company wants to analyze the sales performance of its products in different regions. They have collected the following data:\n",
    " \n",
    "   Region A: [10, 15, 12, 8, 14]\n",
    "   \n",
    "   Region B: [18, 20, 16, 22, 25]\n",
    "   \n",
    "   Calculate the mean sales for each region.\n"
   ]
  },
  {
   "cell_type": "code",
   "execution_count": 24,
   "id": "38f1c1ec-57f1-43f6-8909-3f14ada0ee75",
   "metadata": {},
   "outputs": [],
   "source": [
    "def mean(region):\n",
    "    sum = 0\n",
    "    for i in range(len(region)):\n",
    "        sum += region[i]\n",
    "    reault = sum / len(region)\n",
    "        \n",
    "    print(\"The Mean of Region\" , region , \"is\" , reault)"
   ]
  },
  {
   "cell_type": "code",
   "execution_count": 25,
   "id": "5e6ff3e4-f9e1-4615-b233-f4a05b5c9eea",
   "metadata": {},
   "outputs": [],
   "source": [
    "A = [10, 15, 12, 8, 14]\n",
    "B = [18, 20, 16, 22, 25]"
   ]
  },
  {
   "cell_type": "code",
   "execution_count": 26,
   "id": "5c96d46f-7aa0-474b-8c5c-8c0b6c659144",
   "metadata": {},
   "outputs": [
    {
     "name": "stdout",
     "output_type": "stream",
     "text": [
      "The Mean of Region [10, 15, 12, 8, 14] is 11.8\n"
     ]
    }
   ],
   "source": [
    "mean(A)"
   ]
  },
  {
   "cell_type": "code",
   "execution_count": 27,
   "id": "5685eff7-12e2-473a-8b20-24a53836d21c",
   "metadata": {},
   "outputs": [
    {
     "name": "stdout",
     "output_type": "stream",
     "text": [
      "The Mean of Region [18, 20, 16, 22, 25] is 20.2\n"
     ]
    }
   ],
   "source": [
    "mean(B)"
   ]
  },
  {
   "cell_type": "markdown",
   "id": "cb8699e9-030d-45a8-84f6-b8570a34a801",
   "metadata": {},
   "source": [
    "2. Scenario: A survey is conducted to measure customer satisfaction on a scale of 1 to 5. The data collected is as follows:\n",
    "\n",
    "   [4, 5, 2, 3, 5, 4, 3, 2, 4, 5]\n",
    "   \n",
    "   \n",
    "   Calculate the mode of the survey responses.\n"
   ]
  },
  {
   "cell_type": "code",
   "execution_count": 28,
   "id": "6e40c30f-ed44-4840-94db-8fe2718b2e81",
   "metadata": {},
   "outputs": [],
   "source": [
    "def mode(s):\n",
    "    \n",
    "    count = 0\n",
    "    temp = 0\n",
    "    index = 0\n",
    "    \n",
    "    l = set(s)\n",
    "    l = list(s)\n",
    "    \n",
    "    i =0\n",
    "    \n",
    "    for j in range(len(s)):\n",
    "        temp = s.count(l[i])\n",
    "        \n",
    "        if temp > count :\n",
    "            count = temp\n",
    "            index = i\n",
    "    return l[i]\n",
    "         "
   ]
  },
  {
   "cell_type": "code",
   "execution_count": 29,
   "id": "da473a00-ed6d-4c8e-a4af-420966cb1aeb",
   "metadata": {},
   "outputs": [
    {
     "data": {
      "text/plain": [
       "4"
      ]
     },
     "execution_count": 29,
     "metadata": {},
     "output_type": "execute_result"
    }
   ],
   "source": [
    "mode(   [4, 5, 2, 3, 5, 4, 3, 2, 4, 5])"
   ]
  },
  {
   "cell_type": "markdown",
   "id": "8c4e2f26-0c9f-4e34-ad26-fc88a57b01f5",
   "metadata": {},
   "source": [
    "3. Scenario: A company wants to compare the salaries of two departments. The salary data for Department A and Department B are as follows:\n",
    "\n",
    "   Department A: [5000, 6000, 5500, 7000]\n",
    "   \n",
    "   Department B: [4500, 5500, 5800, 6000, 5200]\n",
    "   \n",
    "   Calculate the median salary for each department.\n"
   ]
  },
  {
   "cell_type": "code",
   "execution_count": 30,
   "id": "5914179e-c8b3-404e-8c96-7e0eebbe4897",
   "metadata": {},
   "outputs": [],
   "source": [
    "def median(D):\n",
    "    \n",
    "    n = len(D)\n",
    "    \n",
    "    s = sorted(D)\n",
    "    \n",
    "    i = n//2\n",
    "    \n",
    "    if(n%2 == 0):\n",
    "        \n",
    "        return (s[i]+s[i-1])/2\n",
    "        \n",
    "    else:\n",
    "        return s[i]\n",
    "        "
   ]
  },
  {
   "cell_type": "code",
   "execution_count": 31,
   "id": "ce050d57-5285-4882-92c4-1ea44331b226",
   "metadata": {},
   "outputs": [],
   "source": [
    "A = [5000, 6000, 5500, 7000]\n",
    "   \n",
    "B = [4500, 5500, 5800, 6000, 5200]"
   ]
  },
  {
   "cell_type": "code",
   "execution_count": 32,
   "id": "6ada2974-2cf1-459e-bfd2-24578c4e38da",
   "metadata": {},
   "outputs": [
    {
     "data": {
      "text/plain": [
       "5750.0"
      ]
     },
     "execution_count": 32,
     "metadata": {},
     "output_type": "execute_result"
    }
   ],
   "source": [
    "median(A)"
   ]
  },
  {
   "cell_type": "code",
   "execution_count": 33,
   "id": "94625d09-3ba4-4edf-b421-fbe03852aff1",
   "metadata": {},
   "outputs": [
    {
     "data": {
      "text/plain": [
       "5500"
      ]
     },
     "execution_count": 33,
     "metadata": {},
     "output_type": "execute_result"
    }
   ],
   "source": [
    "median(B)"
   ]
  },
  {
   "cell_type": "markdown",
   "id": "74aa979a-6068-4380-9726-89743d029531",
   "metadata": {},
   "source": [
    "4. Scenario: A data analyst wants to determine the variability in the daily stock prices of a company. The data collected is as follows:\n",
    "\n",
    "   [25.5, 24.8, 26.1, 25.3, 24.9]\n",
    "   \n",
    "   Calculate the range of the stock prices.\n"
   ]
  },
  {
   "cell_type": "code",
   "execution_count": 34,
   "id": "00fc934a-6d4f-4ce1-a3e4-49477918616d",
   "metadata": {},
   "outputs": [],
   "source": [
    "def range(l):\n",
    "    l = sorted(l)\n",
    "    print(l)\n",
    "    return l[-1]-l[0]"
   ]
  },
  {
   "cell_type": "code",
   "execution_count": 35,
   "id": "f7906f7b-23a5-4144-b003-2d3529259d56",
   "metadata": {},
   "outputs": [
    {
     "name": "stdout",
     "output_type": "stream",
     "text": [
      "[24.8, 24.9, 25.3, 25.5, 26.1]\n"
     ]
    },
    {
     "data": {
      "text/plain": [
       "1.3000000000000007"
      ]
     },
     "execution_count": 35,
     "metadata": {},
     "output_type": "execute_result"
    }
   ],
   "source": [
    "range([25.5, 24.8, 26.1, 25.3, 24.9])"
   ]
  },
  {
   "cell_type": "markdown",
   "id": "e931d993-0a85-4860-be8f-acaaa8de778c",
   "metadata": {},
   "source": [
    "5. Scenario: A study is conducted to compare the performance of two different teaching methods. The test scores of the students in each group are as follows:\n",
    "\n",
    "   Group A: [85, 90, 92, 88, 91]\n",
    "   \n",
    "   Group B: [82, 88, 90, 86, 87]\n",
    "   \n",
    "   Perform a t-test to determine if there is a significant difference in the mean scores between the two groups.\n"
   ]
  },
  {
   "cell_type": "code",
   "execution_count": 36,
   "id": "cd6ce8d0-da7c-449d-b34f-5c452149b54a",
   "metadata": {},
   "outputs": [
    {
     "name": "stdout",
     "output_type": "stream",
     "text": [
      "6.160000000000001 6.160000000000001\n"
     ]
    }
   ],
   "source": [
    "import numpy as np\n",
    "import scipy.stats as stats\n",
    "\n",
    "A =[85, 90, 92, 88, 91]\n",
    "B = [82, 88, 90, 86, 87]\n",
    "\n",
    "# Print the variance of both data groups\n",
    "print(np.var(A), np.var(A))\n"
   ]
  },
  {
   "cell_type": "code",
   "execution_count": 37,
   "id": "f118347c-9397-48cb-8b79-e4954fac8e18",
   "metadata": {},
   "outputs": [
    {
     "data": {
      "text/plain": [
       "Ttest_indResult(statistic=1.4312528946642733, pvalue=0.19023970239078333)"
      ]
     },
     "execution_count": 37,
     "metadata": {},
     "output_type": "execute_result"
    }
   ],
   "source": [
    " \n",
    "import scipy.stats as stats\n",
    "\n",
    "A =[85, 90, 92, 88, 91]\n",
    "B = [82, 88, 90, 86, 87]\n",
    "\n",
    "stats.ttest_ind(a=A, b=B, equal_var=True)\n"
   ]
  },
  {
   "cell_type": "markdown",
   "id": "f468359f-2008-412c-a319-1fcd2b49bb28",
   "metadata": {},
   "source": [
    "6. Scenario: A company wants to analyze the relationship between advertising expenditure and sales. The data collected is as follows:\n",
    "\n",
    "   Advertising Expenditure (in thousands): [10, 15, 12, 8, 14]\n",
    "   \n",
    "   Sales (in thousands): [25, 30, 28, 20, 26]\n",
    "   \n",
    "   Calculate the correlation coefficient between advertising expenditure and sales.\n"
   ]
  },
  {
   "cell_type": "code",
   "execution_count": 38,
   "id": "7bd5cc0c-ddc1-4452-b047-ab0f211bcb3d",
   "metadata": {},
   "outputs": [
    {
     "name": "stdout",
     "output_type": "stream",
     "text": [
      "Correlation Coefficient: 0.8757511375750132\n"
     ]
    }
   ],
   "source": [
    "import numpy as np\n",
    "\n",
    "# Advertising Expenditure and Sales data\n",
    "advertising_expenditure = np.array([10, 15, 12, 8, 14])\n",
    "sales = np.array([25, 30, 28, 20, 26])\n",
    "\n",
    "# Calculate the correlation coefficient\n",
    "correlation_coefficient = np.corrcoef(advertising_expenditure, sales)[0, 1]\n",
    "\n",
    "# Print the result\n",
    "print(\"Correlation Coefficient:\", correlation_coefficient)\n"
   ]
  },
  {
   "cell_type": "markdown",
   "id": "0652a18b-727d-464f-87e1-5b42ef92ce9a",
   "metadata": {},
   "source": [
    "7. Scenario: A survey is conducted to measure the heights of a group of people. The data collected is as follows:\n",
    "\n",
    "   [160, 170, 165, 155, 175, 180, 170]\n",
    "   \n",
    "   Calculate the standard deviation of the heights.\n"
   ]
  },
  {
   "cell_type": "code",
   "execution_count": 39,
   "id": "897f1ed6-eb7c-49b2-b52e-6835df7c9ebd",
   "metadata": {},
   "outputs": [
    {
     "name": "stdout",
     "output_type": "stream",
     "text": [
      "Standard Deviation: 7.953949089757174\n"
     ]
    }
   ],
   "source": [
    "import numpy as np\n",
    "\n",
    "heights = np.array([160, 170, 165, 155, 175, 180, 170])\n",
    "\n",
    "standard_deviation = np.std(heights)\n",
    "\n",
    "print(\"Standard Deviation:\", standard_deviation)\n"
   ]
  },
  {
   "cell_type": "markdown",
   "id": "414a13d9-8be2-452f-a717-13d712aad599",
   "metadata": {},
   "source": [
    "\n",
    "8. Scenario: A company wants to analyze the relationship between employee tenure and job satisfaction. The data collected is as follows:\n",
    "\n",
    "   Employee Tenure (in years): [2, 3, 5, 4, 6, 2, 4]\n",
    "   \n",
    "   Job Satisfaction (on a scale of 1 to 10): [7, 8, 6, 9, 5, 7, 6]\n",
    "   \n",
    "   Perform a linear regression analysis to predict job satisfaction based on employee tenure.\n",
    "\n"
   ]
  },
  {
   "cell_type": "code",
   "execution_count": 40,
   "id": "3b685169-0861-4acb-b30e-786b57c27912",
   "metadata": {},
   "outputs": [
    {
     "name": "stdout",
     "output_type": "stream",
     "text": [
      "Slope (beta): -0.4680851063829786\n",
      "Intercept (alpha): 8.595744680851062\n",
      "Predicted job satisfaction: [7.19148936 6.72340426 5.78723404]\n"
     ]
    }
   ],
   "source": [
    "import numpy as np\n",
    "from sklearn.linear_model import LinearRegression\n",
    "\n",
    "# Given data\n",
    "employee_tenure = np.array([2, 3, 5, 4, 6, 2, 4]).reshape(-1, 1)\n",
    "job_satisfaction = np.array([7, 8, 6, 9, 5, 7, 6])\n",
    "\n",
    "# Create a linear regression model\n",
    "model = LinearRegression()\n",
    "\n",
    "# Fit the model using the data\n",
    "model.fit(employee_tenure, job_satisfaction)\n",
    "\n",
    "# Get the slope (beta) and intercept (alpha)\n",
    "beta = model.coef_[0]\n",
    "alpha = model.intercept_\n",
    "\n",
    "# Print the slope and intercept\n",
    "print(\"Slope (beta):\", beta)\n",
    "print(\"Intercept (alpha):\", alpha)\n",
    "\n",
    "# Predict job satisfaction for new tenure values\n",
    "new_tenure = np.array([3, 4, 6]).reshape(-1, 1)\n",
    "predicted_satisfaction = model.predict(new_tenure)\n",
    "\n",
    "# Print the predicted job satisfaction\n",
    "print(\"Predicted job satisfaction:\", predicted_satisfaction)\n"
   ]
  },
  {
   "cell_type": "markdown",
   "id": "80289e75-bc77-4e52-993e-536664fe9162",
   "metadata": {},
   "source": [
    "9. Scenario: A study is conducted to compare the effectiveness of two different medications. The recovery times of the patients in each group are as follows:\n",
    "\n",
    "   Medication A: [10, 12, 14, 11, 13]\n",
    "   \n",
    "   Medication B: [15, 17, 16, 14, 18]\n",
    "   \n",
    "   Perform an analysis of variance (ANOVA) to determine if there is a significant difference in the mean recovery times between the two medications.\n"
   ]
  },
  {
   "cell_type": "code",
   "execution_count": 41,
   "id": "c79687b6-51ab-46c6-96fd-28056baa836e",
   "metadata": {},
   "outputs": [
    {
     "name": "stdout",
     "output_type": "stream",
     "text": [
      "F-statistic: 16.0\n",
      "p-value: 0.003949772803445326\n"
     ]
    }
   ],
   "source": [
    "import scipy.stats as stats\n",
    "\n",
    "# Recovery times data for Medication A and Medication B\n",
    "medication_a = [10, 12, 14, 11, 13]\n",
    "medication_b = [15, 17, 16, 14, 18]\n",
    "\n",
    "# Perform ANOVA\n",
    "statistic, p_value = stats.f_oneway(medication_a, medication_b)\n",
    "\n",
    "# Print the results\n",
    "print(\"F-statistic:\", statistic)\n",
    "print(\"p-value:\", p_value)\n"
   ]
  },
  {
   "cell_type": "markdown",
   "id": "a8e7885b-91aa-4626-9be0-b5611312686c",
   "metadata": {},
   "source": [
    "10. Scenario: A company wants to analyze customer feedback ratings on a scale of 1 to 10. The data collected is\n",
    "\n",
    " as follows:\n",
    " \n",
    "    [8, 9, 7, 6, 8, 10, 9, 8, 7, 8]\n",
    "    \n",
    "    Calculate the 75th percentile of the feedback ratings.\n"
   ]
  },
  {
   "cell_type": "code",
   "execution_count": 42,
   "id": "8f1807fa-e3e7-4d46-8674-2ad97243ad2d",
   "metadata": {},
   "outputs": [
    {
     "name": "stdout",
     "output_type": "stream",
     "text": [
      "75th Percentile: 8.75\n"
     ]
    }
   ],
   "source": [
    "import numpy as np\n",
    "\n",
    "# Feedback ratings data\n",
    "feedback_ratings = np.array([8, 9, 7, 6, 8, 10, 9, 8, 7, 8])\n",
    "\n",
    "# Calculate the 75th percentile\n",
    "percentile_75 = np.percentile(feedback_ratings, 75)\n",
    "\n",
    "# Print the result\n",
    "print(\"75th Percentile:\", percentile_75)\n"
   ]
  },
  {
   "cell_type": "markdown",
   "id": "12131cc2-f533-408f-98bc-da857476aed0",
   "metadata": {},
   "source": [
    "11. Scenario: A quality control department wants to test the weight consistency of a product. The weights of a sample of products are as follows:\n",
    "\n",
    "    [10.2, 9.8, 10.0, 10.5, 10.3, 10.1]\n",
    "    \n",
    "    Perform a hypothesis test to determine if the mean weight differs significantly from 10 grams.\n"
   ]
  },
  {
   "cell_type": "code",
   "execution_count": 43,
   "id": "8ba6ed68-31c9-4f73-a529-21f11f540aaa",
   "metadata": {},
   "outputs": [
    {
     "name": "stdout",
     "output_type": "stream",
     "text": [
      "T-statistic: 1.5126584522688367\n",
      "p-value: 0.19077595151110102\n"
     ]
    }
   ],
   "source": [
    "import scipy.stats as stats\n",
    "\n",
    "# Weight data\n",
    "weights = [10.2, 9.8, 10.0, 10.5, 10.3, 10.1]\n",
    "\n",
    "# Perform one-sample t-test\n",
    "t_statistic, p_value = stats.ttest_1samp(weights, 10)\n",
    "\n",
    "# Print the results\n",
    "print(\"T-statistic:\", t_statistic)\n",
    "print(\"p-value:\", p_value)\n"
   ]
  },
  {
   "cell_type": "markdown",
   "id": "2863021e-bf17-434d-b44b-2783ae582788",
   "metadata": {},
   "source": [
    "12. Scenario: A company wants to analyze the click-through rates of two different website designs. The number of clicks for each design is as follows:\n",
    "\n",
    "    Design A: [100, 120, 110, 90, 95]\n",
    "    \n",
    "    Design B: [80, 85, 90, 95, 100]\n",
    "    \n",
    "    Perform a chi-square test to determine if there is a significant difference in the click-through rates between the two designs.\n",
    "\n"
   ]
  },
  {
   "cell_type": "code",
   "execution_count": 44,
   "id": "1f1af89c-1600-4d78-b4b3-80fe5778e518",
   "metadata": {},
   "outputs": [
    {
     "name": "stdout",
     "output_type": "stream",
     "text": [
      "Mann-Whitney U statistic: 20.5\n",
      "p-value: 0.11384629800665805\n"
     ]
    }
   ],
   "source": [
    "import scipy.stats as stats\n",
    "\n",
    "# Click-through rates data for Design A and Design B\n",
    "design_a = [100, 120, 110, 90, 95]\n",
    "design_b = [80, 85, 90, 95, 100]\n",
    "\n",
    "# Perform Mann-Whitney U test\n",
    "u_statistic, p_value = stats.mannwhitneyu(design_a, design_b)\n",
    "\n",
    "# Print the results\n",
    "print(\"Mann-Whitney U statistic:\", u_statistic)\n",
    "print(\"p-value:\", p_value)\n"
   ]
  },
  {
   "cell_type": "markdown",
   "id": "4bd6ae82-64a6-472c-bba9-b24a33114ffc",
   "metadata": {},
   "source": [
    "13. Scenario: A survey is conducted to measure customer satisfaction with a product on a scale of 1 to 10. The data collected is as follows:\n",
    "\n",
    "    [7, 9, 6, 8, 10, 7, 8, 9, 7, 8]\n",
    "    \n",
    "    Calculate the 95% confidence interval for the population mean satisfaction score.\n",
    "\n"
   ]
  },
  {
   "cell_type": "code",
   "execution_count": 45,
   "id": "7b480bfa-078a-4fd1-ab27-d48b099702a1",
   "metadata": {},
   "outputs": [
    {
     "name": "stdout",
     "output_type": "stream",
     "text": [
      "95% Confidence Interval: (7.043561120599888, 8.756438879400113)\n"
     ]
    }
   ],
   "source": [
    "import numpy as np\n",
    "import scipy.stats as stats\n",
    "\n",
    "# Customer satisfaction data\n",
    "satisfaction_scores = np.array([7, 9, 6, 8, 10, 7, 8, 9, 7, 8])\n",
    "\n",
    "# Calculate the sample mean and standard error\n",
    "sample_mean = np.mean(satisfaction_scores)\n",
    "standard_error = stats.sem(satisfaction_scores)\n",
    "\n",
    "# Set the desired confidence level\n",
    "confidence_level = 0.95\n",
    "\n",
    "# Calculate the margin of error\n",
    "margin_of_error = stats.t.ppf((1 + confidence_level) / 2, len(satisfaction_scores) - 1) * standard_error\n",
    "\n",
    "# Calculate the confidence interval\n",
    "confidence_interval = (sample_mean - margin_of_error, sample_mean + margin_of_error)\n",
    "\n",
    "# Print the result\n",
    "print(\"95% Confidence Interval:\", confidence_interval)\n"
   ]
  },
  {
   "cell_type": "markdown",
   "id": "77989800-763c-408b-ac22-20de8c56493b",
   "metadata": {},
   "source": [
    "14. Scenario: A company wants to analyze the effect of temperature on product performance. The data collected is as follows:\n",
    "\n",
    "    Temperature (in degrees Celsius): [20, 22, 23, 19, 21]\n",
    "    \n",
    "    Performance (on a scale of 1 to 10): [8, 7, 9, 6, 8]\n",
    "    \n",
    "    Perform a simple linear regression to predict performance based on temperature.\n"
   ]
  },
  {
   "cell_type": "code",
   "execution_count": 46,
   "id": "3c7faf57-8a00-401a-99e0-b1223fa8eee7",
   "metadata": {},
   "outputs": [
    {
     "name": "stdout",
     "output_type": "stream",
     "text": [
      "Slope: 0.5\n",
      "Intercept: -2.9000000000000004\n",
      "R-value: 0.6933752452815364\n",
      "p-value: 0.19417134561205843\n",
      "Standard Error: 0.30000000000000004\n"
     ]
    }
   ],
   "source": [
    "import numpy as np\n",
    "from scipy import stats\n",
    "\n",
    "# Temperature and Performance data\n",
    "temperature = np.array([20, 22, 23, 19, 21])\n",
    "performance = np.array([8, 7, 9, 6, 8])\n",
    "\n",
    "# Perform simple linear regression\n",
    "slope, intercept, r_value, p_value, std_err = stats.linregress(temperature, performance)\n",
    "\n",
    "# Print the regression results\n",
    "print(\"Slope:\", slope)\n",
    "print(\"Intercept:\", intercept)\n",
    "print(\"R-value:\", r_value)\n",
    "print(\"p-value:\", p_value)\n",
    "print(\"Standard Error:\", std_err)\n"
   ]
  },
  {
   "cell_type": "markdown",
   "id": "9ec63863-4ec5-48c5-a3f8-c5a77382ab30",
   "metadata": {},
   "source": [
    "\n",
    "15. Scenario: A study is conducted to compare the preferences of two groups of participants. The preferences are measured on a Likert scale from 1 to 5. The data collected is as follows:\n",
    "\n",
    "    Group A: [4, 3, 5, 2, 4]\n",
    "    \n",
    "    Group B: [3, 2, 4, 3, 3]\n",
    "    \n",
    "    Perform a Mann-Whitney U test to determine if there is a significant difference in the median preferences between the two groups.\n",
    "\n"
   ]
  },
  {
   "cell_type": "code",
   "execution_count": 47,
   "id": "b2ae449d-7ff4-4d00-8ad9-59fb4a0e23dd",
   "metadata": {},
   "outputs": [
    {
     "name": "stdout",
     "output_type": "stream",
     "text": [
      "Mann-Whitney U statistic: 17.0\n",
      "p-value: 0.380836480306712\n"
     ]
    }
   ],
   "source": [
    "import scipy.stats as stats\n",
    "\n",
    "# Preferences data for Group A and Group B\n",
    "group_a = [4, 3, 5, 2, 4]\n",
    "group_b = [3, 2, 4, 3, 3]\n",
    "\n",
    "# Perform Mann-Whitney U test\n",
    "u_statistic, p_value = stats.mannwhitneyu(group_a, group_b)\n",
    "\n",
    "# Print the results\n",
    "print(\"Mann-Whitney U statistic:\", u_statistic)\n",
    "print(\"p-value:\", p_value)\n"
   ]
  },
  {
   "cell_type": "markdown",
   "id": "07a6cdbe-8f05-4ca6-b16d-3c9095b57174",
   "metadata": {},
   "source": [
    "16. Scenario: A company wants to analyze the distribution of customer ages. The data collected is as follows:\n",
    "\n",
    "    [25, 30, 35, 40, 45, 50, 55, 60, 65, 70]\n",
    "\n",
    "    Calculate the interquartile range (IQR) of the ages.\n"
   ]
  },
  {
   "cell_type": "code",
   "execution_count": 48,
   "id": "1a119a8f-7ae1-43f2-a2d6-df69538f5339",
   "metadata": {},
   "outputs": [
    {
     "name": "stdout",
     "output_type": "stream",
     "text": [
      "Interquartile Range (IQR): 22.5\n"
     ]
    }
   ],
   "source": [
    "import numpy as np\n",
    "\n",
    "# Customer ages data\n",
    "ages = np.array([25, 30, 35, 40, 45, 50, 55, 60, 65, 70])\n",
    "\n",
    "# Calculate the interquartile range\n",
    "q1 = np.percentile(ages, 25)\n",
    "q3 = np.percentile(ages, 75)\n",
    "iqr = q3 - q1\n",
    "\n",
    "# Print the result\n",
    "print(\"Interquartile Range (IQR):\", iqr)\n"
   ]
  },
  {
   "cell_type": "markdown",
   "id": "15f47e15-3d13-40b2-ac3a-8f9b2004b5c2",
   "metadata": {},
   "source": [
    "17. Scenario: A study is conducted to compare the performance of three different machine learning algorithms. The accuracy scores for each algorithm are as follows:\n",
    "\n",
    "    Algorithm A: [0.85, 0.80, 0.82, 0.87, 0.83]\n",
    "    \n",
    "    Algorithm B: [0.78, 0.82, 0.84, 0.80, 0.79]\n",
    "    \n",
    "    Algorithm C: [0.90, 0.88, 0.89, 0.86, 0.87]\n",
    "    \n",
    "    Perform a Kruskal-Wallis test to determine if there is a significant difference in the median accuracy scores between the algorithms.\n"
   ]
  },
  {
   "cell_type": "code",
   "execution_count": 49,
   "id": "23eefbf6-a1bd-44cb-9cda-5ce80889ff0a",
   "metadata": {},
   "outputs": [
    {
     "name": "stdout",
     "output_type": "stream",
     "text": [
      "Kruskal-Wallis H statistic: 9.696947935368053\n",
      "p-value: 0.007840333026249539\n"
     ]
    }
   ],
   "source": [
    "import scipy.stats as stats\n",
    "\n",
    "# Accuracy scores data for each algorithm\n",
    "algorithm_a = [0.85, 0.80, 0.82, 0.87, 0.83]\n",
    "algorithm_b = [0.78, 0.82, 0.84, 0.80, 0.79]\n",
    "algorithm_c = [0.90, 0.88, 0.89, 0.86, 0.87]\n",
    "\n",
    "# Perform Kruskal-Wallis test\n",
    "h_statistic, p_value = stats.kruskal(algorithm_a, algorithm_b, algorithm_c)\n",
    "\n",
    "# Print the results\n",
    "print(\"Kruskal-Wallis H statistic:\", h_statistic)\n",
    "print(\"p-value:\", p_value)\n"
   ]
  },
  {
   "cell_type": "markdown",
   "id": "b41e9818-87d7-42b6-ac7d-d6705552b804",
   "metadata": {},
   "source": [
    "18. Scenario: A company wants to analyze the effect of price on sales. The data collected is as follows:\n",
    "\n",
    "    Price (in dollars): [10, 15, 12, 8, 14]\n",
    "    \n",
    "    Sales: [100, 80, 90, 110, 95]\n",
    "    \n",
    "    Perform a simple linear regression to predict sales based on price.\n"
   ]
  },
  {
   "cell_type": "code",
   "execution_count": 50,
   "id": "e65b5c48-1151-4420-b2cb-f5150fd12ff8",
   "metadata": {},
   "outputs": [
    {
     "name": "stdout",
     "output_type": "stream",
     "text": [
      "Slope: -3.506097560975609\n",
      "Intercept: 136.3719512195122\n",
      "R-value: -0.8979991308594848\n",
      "p-value: 0.03850178234753776\n",
      "Standard Error: 0.9918303504036147\n"
     ]
    }
   ],
   "source": [
    "import numpy as np\n",
    "from scipy import stats\n",
    "\n",
    "# Price and Sales data\n",
    "price = np.array([10, 15, 12, 8, 14])\n",
    "sales = np.array([100, 80, 90, 110, 95])\n",
    "\n",
    "# Perform simple linear regression\n",
    "slope, intercept, r_value, p_value, std_err = stats.linregress(price, sales)\n",
    "\n",
    "# Print the regression results\n",
    "print(\"Slope:\", slope)\n",
    "print(\"Intercept:\", intercept)\n",
    "print(\"R-value:\", r_value)\n",
    "print(\"p-value:\", p_value)\n",
    "print(\"Standard Error:\", std_err)\n"
   ]
  },
  {
   "cell_type": "markdown",
   "id": "41dd8b49-3f8b-46ef-8d3a-b9f7ea4f4090",
   "metadata": {},
   "source": [
    "19. Scenario: A survey is conducted to measure the satisfaction levels of customers with a new product. The data collected is as follows:\n",
    "    [7, 8, 9, 6, 8, 7, 9, 7, 8, 7]\n",
    "    Calculate the standard error of the mean satisfaction score.\n",
    "\n",
    " \n"
   ]
  },
  {
   "cell_type": "code",
   "execution_count": 51,
   "id": "41053b48-a514-4273-adb5-f940a3780c21",
   "metadata": {},
   "outputs": [
    {
     "name": "stdout",
     "output_type": "stream",
     "text": [
      "Standard Error of the Mean: 0.28982753492378877\n"
     ]
    }
   ],
   "source": [
    "import numpy as np\n",
    "\n",
    "# Satisfaction scores data\n",
    "satisfaction_scores = np.array([7, 8, 9, 6, 8, 7, 9, 7, 8, 7])\n",
    "\n",
    "# Calculate the standard error of the mean\n",
    "standard_error = np.std(satisfaction_scores) / np.sqrt(len(satisfaction_scores))\n",
    "\n",
    "# Print the result\n",
    "print(\"Standard Error of the Mean:\", standard_error)\n"
   ]
  },
  {
   "cell_type": "markdown",
   "id": "4201c9bf-dcd7-40c3-b990-def5d1133916",
   "metadata": {},
   "source": [
    "20. Scenario: A company wants to analyze the relationship between advertising expenditure and sales. The data collected is as follows:\n",
    "    Advertising Expenditure (in thousands): [10, 15, 12, 8, 14]\n",
    "    Sales (in thousands): [25, 30, 28, 20, 26]\n",
    "    Perform a multiple regression analysis to predict sales based on advertising expenditure."
   ]
  },
  {
   "cell_type": "code",
   "execution_count": 52,
   "id": "ff58af8e-5bc5-452e-9fb5-84c99326bc7c",
   "metadata": {},
   "outputs": [
    {
     "name": "stdout",
     "output_type": "stream",
     "text": [
      "                            OLS Regression Results                            \n",
      "==============================================================================\n",
      "Dep. Variable:                      y   R-squared:                       0.767\n",
      "Model:                            OLS   Adj. R-squared:                  0.689\n",
      "Method:                 Least Squares   F-statistic:                     9.872\n",
      "Date:                Mon, 10 Jul 2023   Prob (F-statistic):             0.0516\n",
      "Time:                        12:24:07   Log-Likelihood:                -9.5288\n",
      "No. Observations:                   5   AIC:                             23.06\n",
      "Df Residuals:                       3   BIC:                             22.28\n",
      "Df Model:                           1                                         \n",
      "Covariance Type:            nonrobust                                         \n",
      "==============================================================================\n",
      "                 coef    std err          t      P>|t|      [0.025      0.975]\n",
      "------------------------------------------------------------------------------\n",
      "const         12.2012      4.429      2.755      0.070      -1.893      26.296\n",
      "x1             1.1524      0.367      3.142      0.052      -0.015       2.320\n",
      "==============================================================================\n",
      "Omnibus:                          nan   Durbin-Watson:                   1.136\n",
      "Prob(Omnibus):                    nan   Jarque-Bera (JB):                0.546\n",
      "Skew:                          -0.267   Prob(JB):                        0.761\n",
      "Kurtosis:                       1.471   Cond. No.                         57.3\n",
      "==============================================================================\n",
      "\n",
      "Notes:\n",
      "[1] Standard Errors assume that the covariance matrix of the errors is correctly specified.\n"
     ]
    },
    {
     "name": "stderr",
     "output_type": "stream",
     "text": [
      "/opt/conda/lib/python3.10/site-packages/statsmodels/stats/stattools.py:74: ValueWarning: omni_normtest is not valid with less than 8 observations; 5 samples were given.\n",
      "  warn(\"omni_normtest is not valid with less than 8 observations; %i \"\n"
     ]
    }
   ],
   "source": [
    "import numpy as np\n",
    "import statsmodels.api as sm\n",
    "\n",
    "# Advertising Expenditure and Sales data\n",
    "advertising_expenditure = np.array([10, 15, 12, 8, 14])\n",
    "sales = np.array([25, 30, 28, 20, 26])\n",
    "\n",
    "# Add a constant to the advertising expenditure data\n",
    "X = sm.add_constant(advertising_expenditure)\n",
    "\n",
    "# Create the multiple regression model\n",
    "model = sm.OLS(sales, X)\n",
    "\n",
    "# Fit the model using the data\n",
    "results = model.fit()\n",
    "\n",
    "# Print the regression results\n",
    "print(results.summary())\n"
   ]
  }
 ],
 "metadata": {
  "kernelspec": {
   "display_name": "Python 3 (ipykernel)",
   "language": "python",
   "name": "python3"
  },
  "language_info": {
   "codemirror_mode": {
    "name": "ipython",
    "version": 3
   },
   "file_extension": ".py",
   "mimetype": "text/x-python",
   "name": "python",
   "nbconvert_exporter": "python",
   "pygments_lexer": "ipython3",
   "version": "3.10.8"
  }
 },
 "nbformat": 4,
 "nbformat_minor": 5
}
